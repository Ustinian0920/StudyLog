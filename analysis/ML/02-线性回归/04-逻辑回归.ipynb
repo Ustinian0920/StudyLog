{
 "cells": [
  {
   "cell_type": "code",
   "execution_count": 1,
   "id": "d4b10d67",
   "metadata": {
    "ExecuteTime": {
     "end_time": "2023-02-17T05:42:59.741235Z",
     "start_time": "2023-02-17T05:42:48.723427Z"
    }
   },
   "outputs": [],
   "source": [
    "import pandas as pd\n",
    "import numpy as np\n",
    "import seaborn as sns\n",
    "import matplotlib.pyplot as plt\n",
    "%matplotlib inline\n",
    "from sklearn.model_selection import train_test_split\n",
    "sns.set()\n",
    "colors = sns.color_palette(\"husl\")"
   ]
  },
  {
   "cell_type": "markdown",
   "id": "4329e153",
   "metadata": {},
   "source": [
    "## 基本使用"
   ]
  },
  {
   "cell_type": "code",
   "execution_count": 2,
   "id": "fd4c85a5",
   "metadata": {
    "ExecuteTime": {
     "end_time": "2023-02-17T05:42:59.790268Z",
     "start_time": "2023-02-17T05:42:59.749079Z"
    }
   },
   "outputs": [],
   "source": [
    "X = np.random.random(size=(10,4))\n",
    "y = np.random.randint(0,2,size=10)"
   ]
  },
  {
   "cell_type": "code",
   "execution_count": 3,
   "id": "84f03c4e",
   "metadata": {
    "ExecuteTime": {
     "end_time": "2023-02-17T05:43:00.295500Z",
     "start_time": "2023-02-17T05:42:59.801065Z"
    }
   },
   "outputs": [],
   "source": [
    "from sklearn.linear_model import LogisticRegression"
   ]
  },
  {
   "cell_type": "code",
   "execution_count": 4,
   "id": "9f97e1cf",
   "metadata": {
    "ExecuteTime": {
     "end_time": "2023-02-17T05:43:00.517028Z",
     "start_time": "2023-02-17T05:43:00.318644Z"
    }
   },
   "outputs": [
    {
     "data": {
      "text/plain": [
       "LogisticRegression()"
      ]
     },
     "execution_count": 4,
     "metadata": {},
     "output_type": "execute_result"
    }
   ],
   "source": [
    "lr = LogisticRegression()\n",
    "lr.fit(X,y)"
   ]
  },
  {
   "cell_type": "markdown",
   "id": "ae2fe106",
   "metadata": {},
   "source": [
    "### 特征系数"
   ]
  },
  {
   "cell_type": "code",
   "execution_count": 5,
   "id": "0ea554a0",
   "metadata": {
    "ExecuteTime": {
     "end_time": "2023-02-17T05:43:00.546685Z",
     "start_time": "2023-02-17T05:43:00.527994Z"
    }
   },
   "outputs": [
    {
     "data": {
      "text/plain": [
       "array([[ 0.08433738, -0.72127619,  0.52129521,  0.34242893]])"
      ]
     },
     "execution_count": 5,
     "metadata": {},
     "output_type": "execute_result"
    }
   ],
   "source": [
    "lr.coef_"
   ]
  },
  {
   "cell_type": "code",
   "execution_count": 6,
   "id": "c6b4fc7d",
   "metadata": {
    "ExecuteTime": {
     "end_time": "2023-02-17T05:43:00.587957Z",
     "start_time": "2023-02-17T05:43:00.558776Z"
    }
   },
   "outputs": [
    {
     "data": {
      "text/plain": [
       "array([0, 0, 1, 0, 0, 0, 0, 0, 0, 0])"
      ]
     },
     "execution_count": 6,
     "metadata": {},
     "output_type": "execute_result"
    }
   ],
   "source": [
    "lr.predict(X)"
   ]
  },
  {
   "cell_type": "markdown",
   "id": "f2728abf",
   "metadata": {},
   "source": [
    "### 预测结果的概率"
   ]
  },
  {
   "cell_type": "code",
   "execution_count": 7,
   "id": "7f962dc1",
   "metadata": {
    "ExecuteTime": {
     "end_time": "2023-02-17T05:43:00.688192Z",
     "start_time": "2023-02-17T05:43:00.602282Z"
    }
   },
   "outputs": [
    {
     "data": {
      "text/plain": [
       "array([[0.63265013, 0.36734987],\n",
       "       [0.52561221, 0.47438779],\n",
       "       [0.47392214, 0.52607786],\n",
       "       [0.63314558, 0.36685442],\n",
       "       [0.58184723, 0.41815277],\n",
       "       [0.71382006, 0.28617994],\n",
       "       [0.55565724, 0.44434276],\n",
       "       [0.58888641, 0.41111359],\n",
       "       [0.65236125, 0.34763875],\n",
       "       [0.64209985, 0.35790015]])"
      ]
     },
     "execution_count": 7,
     "metadata": {},
     "output_type": "execute_result"
    }
   ],
   "source": [
    "lr.predict_proba(X)"
   ]
  },
  {
   "cell_type": "code",
   "execution_count": 8,
   "id": "4213c8e2",
   "metadata": {
    "ExecuteTime": {
     "end_time": "2023-02-17T05:43:00.763046Z",
     "start_time": "2023-02-17T05:43:00.719627Z"
    }
   },
   "outputs": [
    {
     "data": {
      "text/plain": [
       "array([0, 0, 1, 0, 0, 0, 0, 0, 0, 0], dtype=int8)"
      ]
     },
     "execution_count": 8,
     "metadata": {},
     "output_type": "execute_result"
    }
   ],
   "source": [
    "threshold = 0.5\n",
    "(lr.predict_proba(X)[:,1] > threshold).astype(np.int8)"
   ]
  },
  {
   "cell_type": "markdown",
   "id": "98870a77",
   "metadata": {},
   "source": [
    "## 手写数字识别"
   ]
  },
  {
   "cell_type": "code",
   "execution_count": 9,
   "id": "f1cd6492",
   "metadata": {
    "ExecuteTime": {
     "end_time": "2023-02-17T05:43:01.202203Z",
     "start_time": "2023-02-17T05:43:00.776589Z"
    }
   },
   "outputs": [],
   "source": [
    "from sklearn.datasets import load_digits\n",
    "from sklearn.linear_model import LogisticRegression\n",
    "from sklearn.neighbors import KNeighborsClassifier\n",
    "from sklearn.model_selection import cross_val_score"
   ]
  },
  {
   "cell_type": "code",
   "execution_count": 10,
   "id": "601c3643",
   "metadata": {
    "ExecuteTime": {
     "end_time": "2023-02-17T05:43:01.582729Z",
     "start_time": "2023-02-17T05:43:01.263551Z"
    }
   },
   "outputs": [],
   "source": [
    "digits = load_digits()\n",
    "\n",
    "data = digits.data\n",
    "target = digits.target"
   ]
  },
  {
   "cell_type": "code",
   "execution_count": 11,
   "id": "dc81f165",
   "metadata": {
    "ExecuteTime": {
     "end_time": "2023-02-17T05:43:01.664520Z",
     "start_time": "2023-02-17T05:43:01.591271Z"
    }
   },
   "outputs": [],
   "source": [
    "X_train,X_test,y_train,y_test = train_test_split(data,target,test_size=0.2,random_state=1)"
   ]
  },
  {
   "cell_type": "code",
   "execution_count": 12,
   "id": "cdc6b9c9",
   "metadata": {
    "ExecuteTime": {
     "end_time": "2023-02-17T05:44:08.987308Z",
     "start_time": "2023-02-17T05:43:01.732980Z"
    }
   },
   "outputs": [
    {
     "data": {
      "text/plain": [
       "LogisticRegression(max_iter=10000)"
      ]
     },
     "execution_count": 12,
     "metadata": {},
     "output_type": "execute_result"
    }
   ],
   "source": [
    "lr = LogisticRegression(max_iter=10000)\n",
    "knn = KNeighborsClassifier(weights=\"distance\")\n",
    "lr_y_ = cross_val_score(lr,data,target,cv=5)\n",
    "knn_y_ = cross_val_score(knn,data,target,cv=5)\n",
    "lr.fit(X_train,y_train)"
   ]
  },
  {
   "cell_type": "code",
   "execution_count": 13,
   "id": "0f1e187d",
   "metadata": {
    "ExecuteTime": {
     "end_time": "2023-02-17T05:44:09.771755Z",
     "start_time": "2023-02-17T05:44:08.999954Z"
    }
   },
   "outputs": [
    {
     "name": "stdout",
     "output_type": "stream",
     "text": [
      "lr:[0.925      0.875      0.93871866 0.93314763 0.89693593]\n",
      "knn:[0.95277778 0.95555556 0.96657382 0.98050139 0.96100279]\n",
      "type:<class 'numpy.ndarray'>\n"
     ]
    },
    {
     "ename": "TypeError",
     "evalue": "no numeric data to plot",
     "output_type": "error",
     "traceback": [
      "\u001b[0;31m---------------------------------------------------------------------------\u001b[0m",
      "\u001b[0;31mTypeError\u001b[0m                                 Traceback (most recent call last)",
      "\u001b[0;32m/var/folders/s7/wc441d4x0kx0dl7k_7qj2r8r0000gn/T/ipykernel_17261/1981443855.py\u001b[0m in \u001b[0;36m<module>\u001b[0;34m\u001b[0m\n\u001b[1;32m      1\u001b[0m \u001b[0mprint\u001b[0m\u001b[0;34m(\u001b[0m\u001b[0;34mf\"lr:{lr_y_}\\nknn:{knn_y_}\\ntype:{type(lr_y_)}\"\u001b[0m\u001b[0;34m)\u001b[0m\u001b[0;34m\u001b[0m\u001b[0;34m\u001b[0m\u001b[0m\n\u001b[0;32m----> 2\u001b[0;31m pd.DataFrame(data={\n\u001b[0m\u001b[1;32m      3\u001b[0m     \u001b[0;34m\"LR\"\u001b[0m\u001b[0;34m:\u001b[0m\u001b[0mlr\u001b[0m\u001b[0;34m,\u001b[0m\u001b[0;34m\u001b[0m\u001b[0;34m\u001b[0m\u001b[0m\n\u001b[1;32m      4\u001b[0m     \u001b[0;34m\"KNN\"\u001b[0m\u001b[0;34m:\u001b[0m\u001b[0mknn\u001b[0m\u001b[0;34m\u001b[0m\u001b[0;34m\u001b[0m\u001b[0m\n\u001b[1;32m      5\u001b[0m },index = [0,1,2,3,4]).plot()\n",
      "\u001b[0;32m~/opt/anaconda3/lib/python3.9/site-packages/pandas/plotting/_core.py\u001b[0m in \u001b[0;36m__call__\u001b[0;34m(self, *args, **kwargs)\u001b[0m\n\u001b[1;32m    970\u001b[0m                     \u001b[0mdata\u001b[0m\u001b[0;34m.\u001b[0m\u001b[0mcolumns\u001b[0m \u001b[0;34m=\u001b[0m \u001b[0mlabel_name\u001b[0m\u001b[0;34m\u001b[0m\u001b[0;34m\u001b[0m\u001b[0m\n\u001b[1;32m    971\u001b[0m \u001b[0;34m\u001b[0m\u001b[0m\n\u001b[0;32m--> 972\u001b[0;31m         \u001b[0;32mreturn\u001b[0m \u001b[0mplot_backend\u001b[0m\u001b[0;34m.\u001b[0m\u001b[0mplot\u001b[0m\u001b[0;34m(\u001b[0m\u001b[0mdata\u001b[0m\u001b[0;34m,\u001b[0m \u001b[0mkind\u001b[0m\u001b[0;34m=\u001b[0m\u001b[0mkind\u001b[0m\u001b[0;34m,\u001b[0m \u001b[0;34m**\u001b[0m\u001b[0mkwargs\u001b[0m\u001b[0;34m)\u001b[0m\u001b[0;34m\u001b[0m\u001b[0;34m\u001b[0m\u001b[0m\n\u001b[0m\u001b[1;32m    973\u001b[0m \u001b[0;34m\u001b[0m\u001b[0m\n\u001b[1;32m    974\u001b[0m     \u001b[0m__call__\u001b[0m\u001b[0;34m.\u001b[0m\u001b[0m__doc__\u001b[0m \u001b[0;34m=\u001b[0m \u001b[0m__doc__\u001b[0m\u001b[0;34m\u001b[0m\u001b[0;34m\u001b[0m\u001b[0m\n",
      "\u001b[0;32m~/opt/anaconda3/lib/python3.9/site-packages/pandas/plotting/_matplotlib/__init__.py\u001b[0m in \u001b[0;36mplot\u001b[0;34m(data, kind, **kwargs)\u001b[0m\n\u001b[1;32m     69\u001b[0m             \u001b[0mkwargs\u001b[0m\u001b[0;34m[\u001b[0m\u001b[0;34m\"ax\"\u001b[0m\u001b[0;34m]\u001b[0m \u001b[0;34m=\u001b[0m \u001b[0mgetattr\u001b[0m\u001b[0;34m(\u001b[0m\u001b[0max\u001b[0m\u001b[0;34m,\u001b[0m \u001b[0;34m\"left_ax\"\u001b[0m\u001b[0;34m,\u001b[0m \u001b[0max\u001b[0m\u001b[0;34m)\u001b[0m\u001b[0;34m\u001b[0m\u001b[0;34m\u001b[0m\u001b[0m\n\u001b[1;32m     70\u001b[0m     \u001b[0mplot_obj\u001b[0m \u001b[0;34m=\u001b[0m \u001b[0mPLOT_CLASSES\u001b[0m\u001b[0;34m[\u001b[0m\u001b[0mkind\u001b[0m\u001b[0;34m]\u001b[0m\u001b[0;34m(\u001b[0m\u001b[0mdata\u001b[0m\u001b[0;34m,\u001b[0m \u001b[0;34m**\u001b[0m\u001b[0mkwargs\u001b[0m\u001b[0;34m)\u001b[0m\u001b[0;34m\u001b[0m\u001b[0;34m\u001b[0m\u001b[0m\n\u001b[0;32m---> 71\u001b[0;31m     \u001b[0mplot_obj\u001b[0m\u001b[0;34m.\u001b[0m\u001b[0mgenerate\u001b[0m\u001b[0;34m(\u001b[0m\u001b[0;34m)\u001b[0m\u001b[0;34m\u001b[0m\u001b[0;34m\u001b[0m\u001b[0m\n\u001b[0m\u001b[1;32m     72\u001b[0m     \u001b[0mplot_obj\u001b[0m\u001b[0;34m.\u001b[0m\u001b[0mdraw\u001b[0m\u001b[0;34m(\u001b[0m\u001b[0;34m)\u001b[0m\u001b[0;34m\u001b[0m\u001b[0;34m\u001b[0m\u001b[0m\n\u001b[1;32m     73\u001b[0m     \u001b[0;32mreturn\u001b[0m \u001b[0mplot_obj\u001b[0m\u001b[0;34m.\u001b[0m\u001b[0mresult\u001b[0m\u001b[0;34m\u001b[0m\u001b[0;34m\u001b[0m\u001b[0m\n",
      "\u001b[0;32m~/opt/anaconda3/lib/python3.9/site-packages/pandas/plotting/_matplotlib/core.py\u001b[0m in \u001b[0;36mgenerate\u001b[0;34m(self)\u001b[0m\n\u001b[1;32m    325\u001b[0m     \u001b[0;32mdef\u001b[0m \u001b[0mgenerate\u001b[0m\u001b[0;34m(\u001b[0m\u001b[0mself\u001b[0m\u001b[0;34m)\u001b[0m\u001b[0;34m:\u001b[0m\u001b[0;34m\u001b[0m\u001b[0;34m\u001b[0m\u001b[0m\n\u001b[1;32m    326\u001b[0m         \u001b[0mself\u001b[0m\u001b[0;34m.\u001b[0m\u001b[0m_args_adjust\u001b[0m\u001b[0;34m(\u001b[0m\u001b[0;34m)\u001b[0m\u001b[0;34m\u001b[0m\u001b[0;34m\u001b[0m\u001b[0m\n\u001b[0;32m--> 327\u001b[0;31m         \u001b[0mself\u001b[0m\u001b[0;34m.\u001b[0m\u001b[0m_compute_plot_data\u001b[0m\u001b[0;34m(\u001b[0m\u001b[0;34m)\u001b[0m\u001b[0;34m\u001b[0m\u001b[0;34m\u001b[0m\u001b[0m\n\u001b[0m\u001b[1;32m    328\u001b[0m         \u001b[0mself\u001b[0m\u001b[0;34m.\u001b[0m\u001b[0m_setup_subplots\u001b[0m\u001b[0;34m(\u001b[0m\u001b[0;34m)\u001b[0m\u001b[0;34m\u001b[0m\u001b[0;34m\u001b[0m\u001b[0m\n\u001b[1;32m    329\u001b[0m         \u001b[0mself\u001b[0m\u001b[0;34m.\u001b[0m\u001b[0m_make_plot\u001b[0m\u001b[0;34m(\u001b[0m\u001b[0;34m)\u001b[0m\u001b[0;34m\u001b[0m\u001b[0;34m\u001b[0m\u001b[0m\n",
      "\u001b[0;32m~/opt/anaconda3/lib/python3.9/site-packages/pandas/plotting/_matplotlib/core.py\u001b[0m in \u001b[0;36m_compute_plot_data\u001b[0;34m(self)\u001b[0m\n\u001b[1;32m    504\u001b[0m         \u001b[0;31m# no non-numeric frames or series allowed\u001b[0m\u001b[0;34m\u001b[0m\u001b[0;34m\u001b[0m\u001b[0m\n\u001b[1;32m    505\u001b[0m         \u001b[0;32mif\u001b[0m \u001b[0mis_empty\u001b[0m\u001b[0;34m:\u001b[0m\u001b[0;34m\u001b[0m\u001b[0;34m\u001b[0m\u001b[0m\n\u001b[0;32m--> 506\u001b[0;31m             \u001b[0;32mraise\u001b[0m \u001b[0mTypeError\u001b[0m\u001b[0;34m(\u001b[0m\u001b[0;34m\"no numeric data to plot\"\u001b[0m\u001b[0;34m)\u001b[0m\u001b[0;34m\u001b[0m\u001b[0;34m\u001b[0m\u001b[0m\n\u001b[0m\u001b[1;32m    507\u001b[0m \u001b[0;34m\u001b[0m\u001b[0m\n\u001b[1;32m    508\u001b[0m         \u001b[0mself\u001b[0m\u001b[0;34m.\u001b[0m\u001b[0mdata\u001b[0m \u001b[0;34m=\u001b[0m \u001b[0mnumeric_data\u001b[0m\u001b[0;34m.\u001b[0m\u001b[0mapply\u001b[0m\u001b[0;34m(\u001b[0m\u001b[0mself\u001b[0m\u001b[0;34m.\u001b[0m\u001b[0m_convert_to_ndarray\u001b[0m\u001b[0;34m)\u001b[0m\u001b[0;34m\u001b[0m\u001b[0;34m\u001b[0m\u001b[0m\n",
      "\u001b[0;31mTypeError\u001b[0m: no numeric data to plot"
     ]
    }
   ],
   "source": [
    "print(f\"lr:{lr_y_}\\nknn:{knn_y_}\\ntype:{type(lr_y_)}\")\n",
    "pd.DataFrame(data={\n",
    "    \"LR\":lr,\n",
    "    \"KNN\":knn\n",
    "},index = [0,1,2,3,4]).plot()"
   ]
  },
  {
   "cell_type": "markdown",
   "id": "b67c40df",
   "metadata": {},
   "source": [
    "### 调优"
   ]
  },
  {
   "cell_type": "code",
   "execution_count": null,
   "id": "7cd156fd",
   "metadata": {
    "ExecuteTime": {
     "end_time": "2023-02-17T05:44:09.786480Z",
     "start_time": "2023-02-17T05:44:09.786409Z"
    }
   },
   "outputs": [],
   "source": [
    "# C\n",
    "lr1 = LogisticRegression(penalty=\"l2\",C=0.1,max_iter=10000)\n",
    "lr1.fit(X_train,y_train)\n",
    "print(f\"lr:{lr.score(X_test,y_test)}\\nlr1:{lr1.score(X_test,y_test)}\")"
   ]
  },
  {
   "cell_type": "markdown",
   "id": "1a059f0b",
   "metadata": {},
   "source": [
    "### 网格搜索调参"
   ]
  },
  {
   "cell_type": "code",
   "execution_count": null,
   "id": "675a4d02",
   "metadata": {
    "ExecuteTime": {
     "end_time": "2023-02-17T05:44:09.799673Z",
     "start_time": "2023-02-17T05:44:09.799594Z"
    }
   },
   "outputs": [],
   "source": [
    "from sklearn.model_selection import GridSearchCV"
   ]
  },
  {
   "cell_type": "code",
   "execution_count": null,
   "id": "cddb1262",
   "metadata": {
    "ExecuteTime": {
     "end_time": "2023-02-17T05:44:09.809927Z",
     "start_time": "2023-02-17T05:44:09.809851Z"
    }
   },
   "outputs": [],
   "source": [
    "lr = LogisticRegression(max_iter=1000)"
   ]
  },
  {
   "cell_type": "code",
   "execution_count": null,
   "id": "6fe94fbd",
   "metadata": {
    "ExecuteTime": {
     "end_time": "2023-02-17T05:44:09.817015Z",
     "start_time": "2023-02-17T05:44:09.816903Z"
    }
   },
   "outputs": [],
   "source": [
    "# 要搜索的参数的集合\n",
    "parm_grid = {\n",
    "    \"penalty\":[\"l1\",\"l2\"],\n",
    "    \"C\":[0.1,0.5,1,5,10]\n",
    "}\n",
    "\n",
    "# 构造网格搜索对象\n",
    "gscv = GridSearchCV(estimator=lr,param_grid=parm_grid,cv=5)\n",
    "\n",
    "# 开始搜索\n",
    "gscv.fit(data,target)"
   ]
  },
  {
   "cell_type": "code",
   "execution_count": null,
   "id": "8d377ac8",
   "metadata": {
    "ExecuteTime": {
     "end_time": "2023-02-17T05:44:09.826066Z",
     "start_time": "2023-02-17T05:44:09.825985Z"
    }
   },
   "outputs": [],
   "source": [
    "# 获取最best_params_(gscv.best_params_)\n",
    "print(gbest_estimator_t_estimator_)\n",
    "print(gscv.predict(X_test))"
   ]
  },
  {
   "cell_type": "code",
   "execution_count": null,
   "id": "eba425b1",
   "metadata": {
    "ExecuteTime": {
     "end_time": "2023-02-17T05:44:09.832447Z",
     "start_time": "2023-02-17T05:44:09.832406Z"
    }
   },
   "outputs": [],
   "source": [
    "best_model = gscv.best_estimator_\n",
    "best_model.fit(X_train,y_train)\n",
    "best_model.score(X_test,y_test)"
   ]
  },
  {
   "cell_type": "code",
   "execution_count": null,
   "id": "18f8669b",
   "metadata": {},
   "outputs": [],
   "source": []
  }
 ],
 "metadata": {
  "kernelspec": {
   "display_name": "Python 3 (ipykernel)",
   "language": "python",
   "name": "python3"
  },
  "language_info": {
   "codemirror_mode": {
    "name": "ipython",
    "version": 3
   },
   "file_extension": ".py",
   "mimetype": "text/x-python",
   "name": "python",
   "nbconvert_exporter": "python",
   "pygments_lexer": "ipython3",
   "version": "3.9.13"
  },
  "toc": {
   "base_numbering": 1,
   "nav_menu": {},
   "number_sections": true,
   "sideBar": true,
   "skip_h1_title": false,
   "title_cell": "Table of Contents",
   "title_sidebar": "Contents",
   "toc_cell": false,
   "toc_position": {},
   "toc_section_display": true,
   "toc_window_display": false
  }
 },
 "nbformat": 4,
 "nbformat_minor": 5
}
