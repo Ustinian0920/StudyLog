{
 "cells": [
  {
   "cell_type": "markdown",
   "id": "9e8e4c5f",
   "metadata": {},
   "source": [
    "## KNN基本步骤"
   ]
  },
  {
   "cell_type": "code",
   "execution_count": 1,
   "id": "0c4937ea",
   "metadata": {
    "ExecuteTime": {
     "end_time": "2023-02-14T01:02:52.923402Z",
     "start_time": "2023-02-14T01:02:29.181353Z"
    }
   },
   "outputs": [],
   "source": [
    "import pandas as pd\n",
    "import numpy as np\n",
    "import seaborn as sns\n",
    "import matplotlib.pyplot as plt\n",
    "%matplotlib inline\n",
    "from sklearn.datasets import load_iris\n",
    "from sklearn.model_selection import train_test_split"
   ]
  },
  {
   "cell_type": "markdown",
   "id": "5a95934e",
   "metadata": {},
   "source": [
    "### 加载数据"
   ]
  },
  {
   "cell_type": "code",
   "execution_count": 2,
   "id": "3c66f91c",
   "metadata": {
    "ExecuteTime": {
     "end_time": "2023-02-14T01:02:53.119804Z",
     "start_time": "2023-02-14T01:02:53.084798Z"
    }
   },
   "outputs": [],
   "source": [
    "iris = load_iris()\n",
    "\n",
    "data = iris.data\n",
    "target = iris.target\n",
    "feature_names = iris.feature_names\n",
    "target_names = iris.target_names"
   ]
  },
  {
   "cell_type": "code",
   "execution_count": 3,
   "id": "665d20f5",
   "metadata": {
    "ExecuteTime": {
     "end_time": "2023-02-14T01:02:53.184043Z",
     "start_time": "2023-02-14T01:02:53.135404Z"
    }
   },
   "outputs": [
    {
     "data": {
      "text/plain": [
       "(150, 4)"
      ]
     },
     "execution_count": 3,
     "metadata": {},
     "output_type": "execute_result"
    }
   ],
   "source": [
    "data.shape"
   ]
  },
  {
   "cell_type": "code",
   "execution_count": 4,
   "id": "c81b3262",
   "metadata": {
    "ExecuteTime": {
     "end_time": "2023-02-14T01:02:53.300838Z",
     "start_time": "2023-02-14T01:02:53.204833Z"
    }
   },
   "outputs": [
    {
     "data": {
      "text/plain": [
       "150"
      ]
     },
     "execution_count": 4,
     "metadata": {},
     "output_type": "execute_result"
    }
   ],
   "source": [
    "target.size"
   ]
  },
  {
   "cell_type": "markdown",
   "id": "d32334d2",
   "metadata": {},
   "source": [
    "### 特征评估"
   ]
  },
  {
   "cell_type": "code",
   "execution_count": null,
   "id": "462eb4b3",
   "metadata": {},
   "outputs": [],
   "source": [
    "class1 = data[target==0]\n",
    "class2 = data[target==1]\n",
    "class3 = data[target==2]"
   ]
  },
  {
   "cell_type": "markdown",
   "id": "b6043ffa",
   "metadata": {},
   "source": [
    "### KNN使用"
   ]
  },
  {
   "cell_type": "code",
   "execution_count": 5,
   "id": "273353fb",
   "metadata": {
    "ExecuteTime": {
     "end_time": "2023-02-14T01:02:53.935444Z",
     "start_time": "2023-02-14T01:02:53.327108Z"
    }
   },
   "outputs": [
    {
     "data": {
      "text/plain": [
       "0.9473684210526315"
      ]
     },
     "execution_count": 5,
     "metadata": {},
     "output_type": "execute_result"
    }
   ],
   "source": [
    "from sklearn.neighbors import KNeighborsClassifier\n",
    "\n",
    "# 创建模型\n",
    "knn = KNeighborsClassifier(n_neighbors=5,weights=\"distance\")\n",
    "\n",
    "# 划分样本数据\n",
    "X_train, X_test, y_train, y_test = train_test_split(data, target, test_size=0.25)\n",
    "\n",
    "# 训练\n",
    "knn.fit(X_train,y_train)\n",
    "\n",
    "# 预测\n",
    "knn.predict(X_test)\n",
    "\n",
    "# 打分\n",
    "knn.score(X_test,y_test)"
   ]
  },
  {
   "cell_type": "markdown",
   "id": "cfc51790",
   "metadata": {},
   "source": [
    "## 不同K值的学习曲线"
   ]
  },
  {
   "cell_type": "code",
   "execution_count": 6,
   "id": "866702f9",
   "metadata": {
    "ExecuteTime": {
     "end_time": "2023-02-14T01:02:54.004164Z",
     "start_time": "2023-02-14T01:02:53.963718Z"
    }
   },
   "outputs": [
    {
     "data": {
      "text/plain": [
       "array([ 1,  3,  5,  7,  9, 11, 13, 15, 17, 19])"
      ]
     },
     "execution_count": 6,
     "metadata": {},
     "output_type": "execute_result"
    }
   ],
   "source": [
    "k_list = np.arange(1,21,step=2)\n",
    "k_list"
   ]
  },
  {
   "cell_type": "markdown",
   "id": "4658c3f4",
   "metadata": {},
   "source": [
    "### 样本集的划分会影响模型，所以用多个random_state取平均值"
   ]
  },
  {
   "cell_type": "code",
   "execution_count": 7,
   "id": "d0b839cd",
   "metadata": {
    "ExecuteTime": {
     "end_time": "2023-02-14T01:03:13.606195Z",
     "start_time": "2023-02-14T01:02:54.021564Z"
    }
   },
   "outputs": [],
   "source": [
    "test_mean_acc_list = []\n",
    "train_mean_acc_list = []\n",
    "for k in k_list:\n",
    "    knn = KNeighborsClassifier(n_neighbors=k,weights=\"distance\")\n",
    "    test_acc_list = []\n",
    "    train_acc_list = []\n",
    "    # 不同random_state划分的随机性的平均值\n",
    "    for i in range(100):\n",
    "        X_train, X_test, y_train, y_test = train_test_split(data, target, test_size=0.2,random_state=i)\n",
    "        knn.fit(X_train,y_train)\n",
    "        test_acc = knn.score(X_test,y_test)\n",
    "        train_acc = knn.score(X_train,y_train)\n",
    "        test_acc_list.append(test_acc)\n",
    "        train_acc_list.append(train_acc)\n",
    "    test_mean_acc = np.array(test_acc_list).mean()\n",
    "    train_mean_acc = np.array(train_acc_list).mean()\n",
    "    test_mean_acc_list.append(test_mean_acc)\n",
    "    train_mean_acc_list.append(train_mean_acc)"
   ]
  },
  {
   "cell_type": "code",
   "execution_count": 8,
   "id": "9ec985b4",
   "metadata": {
    "ExecuteTime": {
     "end_time": "2023-02-14T01:03:15.856356Z",
     "start_time": "2023-02-14T01:03:13.643557Z"
    },
    "scrolled": true
   },
   "outputs": [
    {
     "data": {
      "text/plain": [
       "<matplotlib.legend.Legend at 0x7fbaacf19d90>"
      ]
     },
     "execution_count": 8,
     "metadata": {},
     "output_type": "execute_result"
    },
    {
     "data": {
      "image/png": "[encoded data removed]",
      "text/plain": [
       "<Figure size 640x480 with 1 Axes>"
      ]
     },
     "metadata": {},
     "output_type": "display_data"
    }
   ],
   "source": [
    "sns.set()\n",
    "plt.plot(k_list,test_mean_acc_list,label=\"X_test_acc\")\n",
    "plt.plot(k_list,train_mean_acc_list,label=\"X_train_acc\")\n",
    "plt.xlabel(\"k\")\n",
    "plt.ylabel(\"acc\")\n",
    "plt.xticks(k_list)\n",
    "plt.legend()"
   ]
  },
  {
   "cell_type": "code",
   "execution_count": 9,
   "id": "2aa54d29",
   "metadata": {
    "ExecuteTime": {
     "end_time": "2023-02-14T01:03:18.136647Z",
     "start_time": "2023-02-14T01:03:15.894511Z"
    }
   },
   "outputs": [
    {
     "data": {
      "text/plain": [
       "[<matplotlib.lines.Line2D at 0x7fbaada517c0>]"
      ]
     },
     "execution_count": 9,
     "metadata": {},
     "output_type": "execute_result"
    },
    {
     "data": {
      "image/png": "[encoded data removed]",
      "text/plain": [
       "<Figure size 640x480 with 1 Axes>"
      ]
     },
     "metadata": {},
     "output_type": "display_data"
    }
   ],
   "source": [
    "plt.plot(k_list,np.array(train_mean_acc_list)-np.array(test_mean_acc_list),label=\"train-test\")"
   ]
  },
  {
   "cell_type": "markdown",
   "id": "95e789fb",
   "metadata": {},
   "source": [
    "### 测试集评分应该和训练集的评分相近"
   ]
  },
  {
   "cell_type": "code",
   "execution_count": 10,
   "id": "c83371b0",
   "metadata": {
    "ExecuteTime": {
     "end_time": "2023-02-14T01:03:18.270635Z",
     "start_time": "2023-02-14T01:03:18.163485Z"
    }
   },
   "outputs": [
    {
     "data": {
      "text/plain": [
       "0.9473684210526315"
      ]
     },
     "execution_count": 10,
     "metadata": {},
     "output_type": "execute_result"
    }
   ],
   "source": [
    "# 如图得到评分最高的模型的K值为13\n",
    "X_train, X_test, y_train, y_test = train_test_split(data, target, test_size=0.25)\n",
    "knn = KNeighborsClassifier(n_neighbors=13,weights=\"distance\")\n",
    "knn.fit(X_train,y_train)\n",
    "acc = knn.score(X_test,y_test)\n",
    "acc"
   ]
  },
  {
   "cell_type": "markdown",
   "id": "a3164e0c",
   "metadata": {},
   "source": [
    "## 分类边界"
   ]
  },
  {
   "cell_type": "code",
   "execution_count": 11,
   "id": "80cd8d2f",
   "metadata": {
    "ExecuteTime": {
     "end_time": "2023-02-14T01:03:19.020210Z",
     "start_time": "2023-02-14T01:03:18.312383Z"
    },
    "scrolled": true
   },
   "outputs": [
    {
     "data": {
      "image/png": "[encoded data removed]",
      "text/plain": [
       "<Figure size 600x100 with 1 Axes>"
      ]
     },
     "metadata": {},
     "output_type": "display_data"
    }
   ],
   "source": [
    "colors = sns.color_palette(\"husl\")\n",
    "sns.palplot(colors)"
   ]
  },
  {
   "cell_type": "code",
   "execution_count": 12,
   "id": "3326eaab",
   "metadata": {
    "ExecuteTime": {
     "end_time": "2023-02-14T01:03:19.087233Z",
     "start_time": "2023-02-14T01:03:19.049397Z"
    }
   },
   "outputs": [],
   "source": [
    "from matplotlib.colors import ListedColormap\n",
    "cmap = ListedColormap(colors[:3])"
   ]
  },
  {
   "cell_type": "code",
   "execution_count": 13,
   "id": "3a746a40",
   "metadata": {
    "ExecuteTime": {
     "end_time": "2023-02-14T01:03:21.537749Z",
     "start_time": "2023-02-14T01:03:19.104423Z"
    }
   },
   "outputs": [
    {
     "data": {
      "text/plain": [
       "<matplotlib.collections.PathCollection at 0x7fbaadc81910>"
      ]
     },
     "execution_count": 13,
     "metadata": {},
     "output_type": "execute_result"
    },
    {
     "data": {
      "image/png": "[encoded data removed]",
      "text/plain": [
       "<Figure size 640x480 with 1 Axes>"
      ]
     },
     "metadata": {},
     "output_type": "display_data"
    }
   ],
   "source": [
    "# 只取前两个特征，方便绘图\n",
    "plt.scatter(data[:,0],data[:,1],c=target,cmap=cmap)"
   ]
  },
  {
   "cell_type": "code",
   "execution_count": 14,
   "id": "5ff822c9",
   "metadata": {
    "ExecuteTime": {
     "end_time": "2023-02-14T01:03:24.463902Z",
     "start_time": "2023-02-14T01:03:21.596877Z"
    }
   },
   "outputs": [
    {
     "ename": "ValueError",
     "evalue": "X has 4 features, but KNeighborsClassifier is expecting 2 features as input.",
     "output_type": "error",
     "traceback": [
      "\u001b[0;31m---------------------------------------------------------------------------\u001b[0m",
      "\u001b[0;31mValueError\u001b[0m                                Traceback (most recent call last)",
      "\u001b[0;32m/var/folders/s7/wc441d4x0kx0dl7k_7qj2r8r0000gn/T/ipykernel_2459/2950402057.py\u001b[0m in \u001b[0;36m<module>\u001b[0;34m\u001b[0m\n\u001b[1;32m     22\u001b[0m \u001b[0;34m\u001b[0m\u001b[0m\n\u001b[1;32m     23\u001b[0m \u001b[0;31m# 预测\u001b[0m\u001b[0;34m\u001b[0m\u001b[0;34m\u001b[0m\u001b[0m\n\u001b[0;32m---> 24\u001b[0;31m \u001b[0my1_\u001b[0m \u001b[0;34m=\u001b[0m \u001b[0mknn1\u001b[0m\u001b[0;34m.\u001b[0m\u001b[0mpredict\u001b[0m\u001b[0;34m(\u001b[0m\u001b[0mX_test\u001b[0m\u001b[0;34m)\u001b[0m\u001b[0;34m\u001b[0m\u001b[0;34m\u001b[0m\u001b[0m\n\u001b[0m\u001b[1;32m     25\u001b[0m \u001b[0my2_\u001b[0m \u001b[0;34m=\u001b[0m \u001b[0mknn2\u001b[0m\u001b[0;34m.\u001b[0m\u001b[0mpredict\u001b[0m\u001b[0;34m(\u001b[0m\u001b[0mX_test\u001b[0m\u001b[0;34m)\u001b[0m\u001b[0;34m\u001b[0m\u001b[0;34m\u001b[0m\u001b[0m\n\u001b[1;32m     26\u001b[0m \u001b[0;34m\u001b[0m\u001b[0m\n",
      "\u001b[0;32m~/opt/anaconda3/lib/python3.9/site-packages/sklearn/neighbors/_classification.py\u001b[0m in \u001b[0;36mpredict\u001b[0;34m(self, X)\u001b[0m\n\u001b[1;32m    212\u001b[0m             \u001b[0mClass\u001b[0m \u001b[0mlabels\u001b[0m \u001b[0;32mfor\u001b[0m \u001b[0meach\u001b[0m \u001b[0mdata\u001b[0m \u001b[0msample\u001b[0m\u001b[0;34m.\u001b[0m\u001b[0;34m\u001b[0m\u001b[0;34m\u001b[0m\u001b[0m\n\u001b[1;32m    213\u001b[0m         \"\"\"\n\u001b[0;32m--> 214\u001b[0;31m         \u001b[0mneigh_dist\u001b[0m\u001b[0;34m,\u001b[0m \u001b[0mneigh_ind\u001b[0m \u001b[0;34m=\u001b[0m \u001b[0mself\u001b[0m\u001b[0;34m.\u001b[0m\u001b[0mkneighbors\u001b[0m\u001b[0;34m(\u001b[0m\u001b[0mX\u001b[0m\u001b[0;34m)\u001b[0m\u001b[0;34m\u001b[0m\u001b[0;34m\u001b[0m\u001b[0m\n\u001b[0m\u001b[1;32m    215\u001b[0m         \u001b[0mclasses_\u001b[0m \u001b[0;34m=\u001b[0m \u001b[0mself\u001b[0m\u001b[0;34m.\u001b[0m\u001b[0mclasses_\u001b[0m\u001b[0;34m\u001b[0m\u001b[0;34m\u001b[0m\u001b[0m\n\u001b[1;32m    216\u001b[0m         \u001b[0m_y\u001b[0m \u001b[0;34m=\u001b[0m \u001b[0mself\u001b[0m\u001b[0;34m.\u001b[0m\u001b[0m_y\u001b[0m\u001b[0;34m\u001b[0m\u001b[0;34m\u001b[0m\u001b[0m\n",
      "\u001b[0;32m~/opt/anaconda3/lib/python3.9/site-packages/sklearn/neighbors/_base.py\u001b[0m in \u001b[0;36mkneighbors\u001b[0;34m(self, X, n_neighbors, return_distance)\u001b[0m\n\u001b[1;32m    715\u001b[0m                 \u001b[0mX\u001b[0m \u001b[0;34m=\u001b[0m \u001b[0m_check_precomputed\u001b[0m\u001b[0;34m(\u001b[0m\u001b[0mX\u001b[0m\u001b[0;34m)\u001b[0m\u001b[0;34m\u001b[0m\u001b[0;34m\u001b[0m\u001b[0m\n\u001b[1;32m    716\u001b[0m             \u001b[0;32melse\u001b[0m\u001b[0;34m:\u001b[0m\u001b[0;34m\u001b[0m\u001b[0;34m\u001b[0m\u001b[0m\n\u001b[0;32m--> 717\u001b[0;31m                 \u001b[0mX\u001b[0m \u001b[0;34m=\u001b[0m \u001b[0mself\u001b[0m\u001b[0;34m.\u001b[0m\u001b[0m_validate_data\u001b[0m\u001b[0;34m(\u001b[0m\u001b[0mX\u001b[0m\u001b[0;34m,\u001b[0m \u001b[0maccept_sparse\u001b[0m\u001b[0;34m=\u001b[0m\u001b[0;34m\"csr\"\u001b[0m\u001b[0;34m,\u001b[0m \u001b[0mreset\u001b[0m\u001b[0;34m=\u001b[0m\u001b[0;32mFalse\u001b[0m\u001b[0;34m)\u001b[0m\u001b[0;34m\u001b[0m\u001b[0;34m\u001b[0m\u001b[0m\n\u001b[0m\u001b[1;32m    718\u001b[0m         \u001b[0;32melse\u001b[0m\u001b[0;34m:\u001b[0m\u001b[0;34m\u001b[0m\u001b[0;34m\u001b[0m\u001b[0m\n\u001b[1;32m    719\u001b[0m             \u001b[0mquery_is_train\u001b[0m \u001b[0;34m=\u001b[0m \u001b[0;32mTrue\u001b[0m\u001b[0;34m\u001b[0m\u001b[0;34m\u001b[0m\u001b[0m\n",
      "\u001b[0;32m~/opt/anaconda3/lib/python3.9/site-packages/sklearn/base.py\u001b[0m in \u001b[0;36m_validate_data\u001b[0;34m(self, X, y, reset, validate_separately, **check_params)\u001b[0m\n\u001b[1;32m    583\u001b[0m \u001b[0;34m\u001b[0m\u001b[0m\n\u001b[1;32m    584\u001b[0m         \u001b[0;32mif\u001b[0m \u001b[0;32mnot\u001b[0m \u001b[0mno_val_X\u001b[0m \u001b[0;32mand\u001b[0m \u001b[0mcheck_params\u001b[0m\u001b[0;34m.\u001b[0m\u001b[0mget\u001b[0m\u001b[0;34m(\u001b[0m\u001b[0;34m\"ensure_2d\"\u001b[0m\u001b[0;34m,\u001b[0m \u001b[0;32mTrue\u001b[0m\u001b[0;34m)\u001b[0m\u001b[0;34m:\u001b[0m\u001b[0;34m\u001b[0m\u001b[0;34m\u001b[0m\u001b[0m\n\u001b[0;32m--> 585\u001b[0;31m             \u001b[0mself\u001b[0m\u001b[0;34m.\u001b[0m\u001b[0m_check_n_features\u001b[0m\u001b[0;34m(\u001b[0m\u001b[0mX\u001b[0m\u001b[0;34m,\u001b[0m \u001b[0mreset\u001b[0m\u001b[0;34m=\u001b[0m\u001b[0mreset\u001b[0m\u001b[0;34m)\u001b[0m\u001b[0;34m\u001b[0m\u001b[0;34m\u001b[0m\u001b[0m\n\u001b[0m\u001b[1;32m    586\u001b[0m \u001b[0;34m\u001b[0m\u001b[0m\n\u001b[1;32m    587\u001b[0m         \u001b[0;32mreturn\u001b[0m \u001b[0mout\u001b[0m\u001b[0;34m\u001b[0m\u001b[0;34m\u001b[0m\u001b[0m\n",
      "\u001b[0;32m~/opt/anaconda3/lib/python3.9/site-packages/sklearn/base.py\u001b[0m in \u001b[0;36m_check_n_features\u001b[0;34m(self, X, reset)\u001b[0m\n\u001b[1;32m    398\u001b[0m \u001b[0;34m\u001b[0m\u001b[0m\n\u001b[1;32m    399\u001b[0m         \u001b[0;32mif\u001b[0m \u001b[0mn_features\u001b[0m \u001b[0;34m!=\u001b[0m \u001b[0mself\u001b[0m\u001b[0;34m.\u001b[0m\u001b[0mn_features_in_\u001b[0m\u001b[0;34m:\u001b[0m\u001b[0;34m\u001b[0m\u001b[0;34m\u001b[0m\u001b[0m\n\u001b[0;32m--> 400\u001b[0;31m             raise ValueError(\n\u001b[0m\u001b[1;32m    401\u001b[0m                 \u001b[0;34mf\"X has {n_features} features, but {self.__class__.__name__} \"\u001b[0m\u001b[0;34m\u001b[0m\u001b[0;34m\u001b[0m\u001b[0m\n\u001b[1;32m    402\u001b[0m                 \u001b[0;34mf\"is expecting {self.n_features_in_} features as input.\"\u001b[0m\u001b[0;34m\u001b[0m\u001b[0;34m\u001b[0m\u001b[0m\n",
      "\u001b[0;31mValueError\u001b[0m: X has 4 features, but KNeighborsClassifier is expecting 2 features as input."
     ]
    }
   ],
   "source": [
    "knn1 = KNeighborsClassifier(n_neighbors=1,weights=\"distance\")\n",
    "knn2 = KNeighborsClassifier(n_neighbors=13,weights=\"distance\")\n",
    "\n",
    "# 只取前两个特征，方便绘图\n",
    "X = data[:,:2]\n",
    "y = target\n",
    "\n",
    "knn1.fit(X,y)\n",
    "knn2.fit(X,y)\n",
    "\n",
    "xmin,xmax = data[:,0].min(),data[:,0].max()\n",
    "ymin,ymax = data[:,1].min(),data[:,1].max()\n",
    "\n",
    "x_list = np.linspace(xmin,xmax,100)\n",
    "y_list = np.linspace(ymin,ymax,100)\n",
    "\n",
    "# 广播\n",
    "xx , yy = np.meshgrid(x_list,y_list)\n",
    "\n",
    "# c_及联 ravel把多维转为一唯\n",
    "np.c_[yy.ravel(),xx.ravel()]\n",
    "\n",
    "# 预测\n",
    "y1_ = knn1.predict(X_test)\n",
    "y2_ = knn2.predict(X_test)\n",
    "\n",
    "# 绘制分类边界\n",
    "fig,axs = plt.subplots(1,2,figsize=(12,6))\n",
    "X_test = np.c_[xx.ravel(),yy.ravel()]\n",
    "axs[0].scatter(X_test[:,0],X_test[:,1],c=y1_)\n",
    "axs[0].scatter(data[:,0],data[:,1],c=target,cmap=cmap)\n",
    "axs[1].scatter(X_test[:,0],X_test[:,1],c=y2_)\n",
    "axs[1].scatter(data[:,0],data[:,1],c=target,cmap=cmap)"
   ]
  },
  {
   "cell_type": "markdown",
   "id": "349af0b9",
   "metadata": {},
   "source": [
    "## 预测年收入大于50k"
   ]
  },
  {
   "cell_type": "markdown",
   "id": "27a8b7d6",
   "metadata": {},
   "source": [
    "### 数据导入"
   ]
  },
  {
   "cell_type": "code",
   "execution_count": 15,
   "id": "1ed3e9d6",
   "metadata": {
    "ExecuteTime": {
     "end_time": "2023-02-14T01:03:38.105302Z",
     "start_time": "2023-02-14T01:03:37.794175Z"
    }
   },
   "outputs": [],
   "source": [
    "# step=\",\" 默认为，分割\n",
    "adults = pd.read_csv(\"adults.txt\")"
   ]
  },
  {
   "cell_type": "markdown",
   "id": "65069977",
   "metadata": {},
   "source": [
    "### 基本信息查看"
   ]
  },
  {
   "cell_type": "code",
   "execution_count": 16,
   "id": "80daa866",
   "metadata": {
    "ExecuteTime": {
     "end_time": "2023-02-14T01:03:39.473451Z",
     "start_time": "2023-02-14T01:03:39.254443Z"
    }
   },
   "outputs": [
    {
     "name": "stdout",
     "output_type": "stream",
     "text": [
      "<class 'pandas.core.frame.DataFrame'>\n",
      "RangeIndex: 32561 entries, 0 to 32560\n",
      "Data columns (total 15 columns):\n",
      " #   Column          Non-Null Count  Dtype \n",
      "---  ------          --------------  ----- \n",
      " 0   age             32561 non-null  int64 \n",
      " 1   workclass       32561 non-null  object\n",
      " 2   final_weight    32561 non-null  int64 \n",
      " 3   education       32561 non-null  object\n",
      " 4   education_num   32561 non-null  int64 \n",
      " 5   marital_status  32561 non-null  object\n",
      " 6   occupation      32561 non-null  object\n",
      " 7   relationship    32561 non-null  object\n",
      " 8   race            32561 non-null  object\n",
      " 9   sex             32561 non-null  object\n",
      " 10  capital_gain    32561 non-null  int64 \n",
      " 11  capital_loss    32561 non-null  int64 \n",
      " 12  hours_per_week  32561 non-null  int64 \n",
      " 13  native_country  32561 non-null  object\n",
      " 14  salary          32561 non-null  object\n",
      "dtypes: int64(6), object(9)\n",
      "memory usage: 3.7+ MB\n"
     ]
    }
   ],
   "source": [
    "adults.info()"
   ]
  },
  {
   "cell_type": "code",
   "execution_count": 17,
   "id": "9c30f543",
   "metadata": {
    "ExecuteTime": {
     "end_time": "2023-02-14T01:03:39.953479Z",
     "start_time": "2023-02-14T01:03:39.764772Z"
    }
   },
   "outputs": [
    {
     "data": {
      "text/html": [
       "<div>\n",
       "<style scoped>\n",
       "    .dataframe tbody tr th:only-of-type {\n",
       "        vertical-align: middle;\n",
       "    }\n",
       "\n",
       "    .dataframe tbody tr th {\n",
       "        vertical-align: top;\n",
       "    }\n",
       "\n",
       "    .dataframe thead th {\n",
       "        text-align: right;\n",
       "    }\n",
       "</style>\n",
       "<table border=\"1\" class=\"dataframe\">\n",
       "  <thead>\n",
       "    <tr style=\"text-align: right;\">\n",
       "      <th></th>\n",
       "      <th>age</th>\n",
       "      <th>final_weight</th>\n",
       "      <th>education_num</th>\n",
       "      <th>capital_gain</th>\n",
       "      <th>capital_loss</th>\n",
       "      <th>hours_per_week</th>\n",
       "    </tr>\n",
       "  </thead>\n",
       "  <tbody>\n",
       "    <tr>\n",
       "      <th>count</th>\n",
       "      <td>32561.000000</td>\n",
       "      <td>3.256100e+04</td>\n",
       "      <td>32561.000000</td>\n",
       "      <td>32561.000000</td>\n",
       "      <td>32561.000000</td>\n",
       "      <td>32561.000000</td>\n",
       "    </tr>\n",
       "    <tr>\n",
       "      <th>mean</th>\n",
       "      <td>38.581647</td>\n",
       "      <td>1.897784e+05</td>\n",
       "      <td>10.080679</td>\n",
       "      <td>1077.648844</td>\n",
       "      <td>87.303830</td>\n",
       "      <td>40.437456</td>\n",
       "    </tr>\n",
       "    <tr>\n",
       "      <th>std</th>\n",
       "      <td>13.640433</td>\n",
       "      <td>1.055500e+05</td>\n",
       "      <td>2.572720</td>\n",
       "      <td>7385.292085</td>\n",
       "      <td>402.960219</td>\n",
       "      <td>12.347429</td>\n",
       "    </tr>\n",
       "    <tr>\n",
       "      <th>min</th>\n",
       "      <td>17.000000</td>\n",
       "      <td>1.228500e+04</td>\n",
       "      <td>1.000000</td>\n",
       "      <td>0.000000</td>\n",
       "      <td>0.000000</td>\n",
       "      <td>1.000000</td>\n",
       "    </tr>\n",
       "    <tr>\n",
       "      <th>25%</th>\n",
       "      <td>28.000000</td>\n",
       "      <td>1.178270e+05</td>\n",
       "      <td>9.000000</td>\n",
       "      <td>0.000000</td>\n",
       "      <td>0.000000</td>\n",
       "      <td>40.000000</td>\n",
       "    </tr>\n",
       "    <tr>\n",
       "      <th>50%</th>\n",
       "      <td>37.000000</td>\n",
       "      <td>1.783560e+05</td>\n",
       "      <td>10.000000</td>\n",
       "      <td>0.000000</td>\n",
       "      <td>0.000000</td>\n",
       "      <td>40.000000</td>\n",
       "    </tr>\n",
       "    <tr>\n",
       "      <th>75%</th>\n",
       "      <td>48.000000</td>\n",
       "      <td>2.370510e+05</td>\n",
       "      <td>12.000000</td>\n",
       "      <td>0.000000</td>\n",
       "      <td>0.000000</td>\n",
       "      <td>45.000000</td>\n",
       "    </tr>\n",
       "    <tr>\n",
       "      <th>max</th>\n",
       "      <td>90.000000</td>\n",
       "      <td>1.484705e+06</td>\n",
       "      <td>16.000000</td>\n",
       "      <td>99999.000000</td>\n",
       "      <td>4356.000000</td>\n",
       "      <td>99.000000</td>\n",
       "    </tr>\n",
       "  </tbody>\n",
       "</table>\n",
       "</div>"
      ],
      "text/plain": [
       "                age  final_weight  education_num  capital_gain  capital_loss  \\\n",
       "count  32561.000000  3.256100e+04   32561.000000  32561.000000  32561.000000   \n",
       "mean      38.581647  1.897784e+05      10.080679   1077.648844     87.303830   \n",
       "std       13.640433  1.055500e+05       2.572720   7385.292085    402.960219   \n",
       "min       17.000000  1.228500e+04       1.000000      0.000000      0.000000   \n",
       "25%       28.000000  1.178270e+05       9.000000      0.000000      0.000000   \n",
       "50%       37.000000  1.783560e+05      10.000000      0.000000      0.000000   \n",
       "75%       48.000000  2.370510e+05      12.000000      0.000000      0.000000   \n",
       "max       90.000000  1.484705e+06      16.000000  99999.000000   4356.000000   \n",
       "\n",
       "       hours_per_week  \n",
       "count    32561.000000  \n",
       "mean        40.437456  \n",
       "std         12.347429  \n",
       "min          1.000000  \n",
       "25%         40.000000  \n",
       "50%         40.000000  \n",
       "75%         45.000000  \n",
       "max         99.000000  "
      ]
     },
     "execution_count": 17,
     "metadata": {},
     "output_type": "execute_result"
    }
   ],
   "source": [
    "adults.describe()"
   ]
  },
  {
   "cell_type": "code",
   "execution_count": 18,
   "id": "e86c1a3f",
   "metadata": {
    "ExecuteTime": {
     "end_time": "2023-02-14T01:03:40.597995Z",
     "start_time": "2023-02-14T01:03:40.531215Z"
    }
   },
   "outputs": [
    {
     "data": {
      "text/html": [
       "<div>\n",
       "<style scoped>\n",
       "    .dataframe tbody tr th:only-of-type {\n",
       "        vertical-align: middle;\n",
       "    }\n",
       "\n",
       "    .dataframe tbody tr th {\n",
       "        vertical-align: top;\n",
       "    }\n",
       "\n",
       "    .dataframe thead th {\n",
       "        text-align: right;\n",
       "    }\n",
       "</style>\n",
       "<table border=\"1\" class=\"dataframe\">\n",
       "  <thead>\n",
       "    <tr style=\"text-align: right;\">\n",
       "      <th></th>\n",
       "      <th>age</th>\n",
       "      <th>workclass</th>\n",
       "      <th>final_weight</th>\n",
       "      <th>education</th>\n",
       "      <th>education_num</th>\n",
       "      <th>marital_status</th>\n",
       "      <th>occupation</th>\n",
       "      <th>relationship</th>\n",
       "      <th>race</th>\n",
       "      <th>sex</th>\n",
       "      <th>capital_gain</th>\n",
       "      <th>capital_loss</th>\n",
       "      <th>hours_per_week</th>\n",
       "      <th>native_country</th>\n",
       "      <th>salary</th>\n",
       "    </tr>\n",
       "  </thead>\n",
       "  <tbody>\n",
       "    <tr>\n",
       "      <th>0</th>\n",
       "      <td>39</td>\n",
       "      <td>State-gov</td>\n",
       "      <td>77516</td>\n",
       "      <td>Bachelors</td>\n",
       "      <td>13</td>\n",
       "      <td>Never-married</td>\n",
       "      <td>Adm-clerical</td>\n",
       "      <td>Not-in-family</td>\n",
       "      <td>White</td>\n",
       "      <td>Male</td>\n",
       "      <td>2174</td>\n",
       "      <td>0</td>\n",
       "      <td>40</td>\n",
       "      <td>United-States</td>\n",
       "      <td>&lt;=50K</td>\n",
       "    </tr>\n",
       "    <tr>\n",
       "      <th>1</th>\n",
       "      <td>50</td>\n",
       "      <td>Self-emp-not-inc</td>\n",
       "      <td>83311</td>\n",
       "      <td>Bachelors</td>\n",
       "      <td>13</td>\n",
       "      <td>Married-civ-spouse</td>\n",
       "      <td>Exec-managerial</td>\n",
       "      <td>Husband</td>\n",
       "      <td>White</td>\n",
       "      <td>Male</td>\n",
       "      <td>0</td>\n",
       "      <td>0</td>\n",
       "      <td>13</td>\n",
       "      <td>United-States</td>\n",
       "      <td>&lt;=50K</td>\n",
       "    </tr>\n",
       "    <tr>\n",
       "      <th>2</th>\n",
       "      <td>38</td>\n",
       "      <td>Private</td>\n",
       "      <td>215646</td>\n",
       "      <td>HS-grad</td>\n",
       "      <td>9</td>\n",
       "      <td>Divorced</td>\n",
       "      <td>Handlers-cleaners</td>\n",
       "      <td>Not-in-family</td>\n",
       "      <td>White</td>\n",
       "      <td>Male</td>\n",
       "      <td>0</td>\n",
       "      <td>0</td>\n",
       "      <td>40</td>\n",
       "      <td>United-States</td>\n",
       "      <td>&lt;=50K</td>\n",
       "    </tr>\n",
       "    <tr>\n",
       "      <th>3</th>\n",
       "      <td>53</td>\n",
       "      <td>Private</td>\n",
       "      <td>234721</td>\n",
       "      <td>11th</td>\n",
       "      <td>7</td>\n",
       "      <td>Married-civ-spouse</td>\n",
       "      <td>Handlers-cleaners</td>\n",
       "      <td>Husband</td>\n",
       "      <td>Black</td>\n",
       "      <td>Male</td>\n",
       "      <td>0</td>\n",
       "      <td>0</td>\n",
       "      <td>40</td>\n",
       "      <td>United-States</td>\n",
       "      <td>&lt;=50K</td>\n",
       "    </tr>\n",
       "    <tr>\n",
       "      <th>4</th>\n",
       "      <td>28</td>\n",
       "      <td>Private</td>\n",
       "      <td>338409</td>\n",
       "      <td>Bachelors</td>\n",
       "      <td>13</td>\n",
       "      <td>Married-civ-spouse</td>\n",
       "      <td>Prof-specialty</td>\n",
       "      <td>Wife</td>\n",
       "      <td>Black</td>\n",
       "      <td>Female</td>\n",
       "      <td>0</td>\n",
       "      <td>0</td>\n",
       "      <td>40</td>\n",
       "      <td>Cuba</td>\n",
       "      <td>&lt;=50K</td>\n",
       "    </tr>\n",
       "  </tbody>\n",
       "</table>\n",
       "</div>"
      ],
      "text/plain": [
       "   age         workclass  final_weight  education  education_num  \\\n",
       "0   39         State-gov         77516  Bachelors             13   \n",
       "1   50  Self-emp-not-inc         83311  Bachelors             13   \n",
       "2   38           Private        215646    HS-grad              9   \n",
       "3   53           Private        234721       11th              7   \n",
       "4   28           Private        338409  Bachelors             13   \n",
       "\n",
       "       marital_status         occupation   relationship   race     sex  \\\n",
       "0       Never-married       Adm-clerical  Not-in-family  White    Male   \n",
       "1  Married-civ-spouse    Exec-managerial        Husband  White    Male   \n",
       "2            Divorced  Handlers-cleaners  Not-in-family  White    Male   \n",
       "3  Married-civ-spouse  Handlers-cleaners        Husband  Black    Male   \n",
       "4  Married-civ-spouse     Prof-specialty           Wife  Black  Female   \n",
       "\n",
       "   capital_gain  capital_loss  hours_per_week native_country salary  \n",
       "0          2174             0              40  United-States  <=50K  \n",
       "1             0             0              13  United-States  <=50K  \n",
       "2             0             0              40  United-States  <=50K  \n",
       "3             0             0              40  United-States  <=50K  \n",
       "4             0             0              40           Cuba  <=50K  "
      ]
     },
     "execution_count": 18,
     "metadata": {},
     "output_type": "execute_result"
    }
   ],
   "source": [
    "adults.head()"
   ]
  },
  {
   "cell_type": "code",
   "execution_count": 19,
   "id": "14828aec",
   "metadata": {
    "ExecuteTime": {
     "end_time": "2023-02-14T01:03:41.836380Z",
     "start_time": "2023-02-14T01:03:41.284662Z"
    }
   },
   "outputs": [
    {
     "name": "stderr",
     "output_type": "stream",
     "text": [
      "/Users/lianke/opt/anaconda3/lib/python3.9/site-packages/seaborn/_decorators.py:36: FutureWarning: Pass the following variable as a keyword arg: x. From version 0.12, the only valid positional argument will be `data`, and passing other arguments without an explicit keyword will result in an error or misinterpretation.\n",
      "  warnings.warn(\n"
     ]
    },
    {
     "data": {
      "text/plain": [
       "<=50K    24720\n",
       ">50K      7841\n",
       "Name: salary, dtype: int64"
      ]
     },
     "execution_count": 19,
     "metadata": {},
     "output_type": "execute_result"
    },
    {
     "data": {
      "image/png": "[encoded data removed]",
      "text/plain": [
       "<Figure size 640x480 with 1 Axes>"
      ]
     },
     "metadata": {},
     "output_type": "display_data"
    }
   ],
   "source": [
    "sns.countplot(adults.salary)\n",
    "adults.salary.value_counts()"
   ]
  },
  {
   "cell_type": "markdown",
   "id": "a5523a4d",
   "metadata": {},
   "source": [
    "### 样本均衡"
   ]
  },
  {
   "cell_type": "code",
   "execution_count": 20,
   "id": "cac45f68",
   "metadata": {
    "ExecuteTime": {
     "end_time": "2023-02-14T01:03:43.583098Z",
     "start_time": "2023-02-14T01:03:43.406958Z"
    }
   },
   "outputs": [
    {
     "data": {
      "text/html": [
       "<div>\n",
       "<style scoped>\n",
       "    .dataframe tbody tr th:only-of-type {\n",
       "        vertical-align: middle;\n",
       "    }\n",
       "\n",
       "    .dataframe tbody tr th {\n",
       "        vertical-align: top;\n",
       "    }\n",
       "\n",
       "    .dataframe thead th {\n",
       "        text-align: right;\n",
       "    }\n",
       "</style>\n",
       "<table border=\"1\" class=\"dataframe\">\n",
       "  <thead>\n",
       "    <tr style=\"text-align: right;\">\n",
       "      <th></th>\n",
       "      <th>age</th>\n",
       "      <th>workclass</th>\n",
       "      <th>final_weight</th>\n",
       "      <th>education</th>\n",
       "      <th>education_num</th>\n",
       "      <th>marital_status</th>\n",
       "      <th>occupation</th>\n",
       "      <th>relationship</th>\n",
       "      <th>race</th>\n",
       "      <th>sex</th>\n",
       "      <th>capital_gain</th>\n",
       "      <th>capital_loss</th>\n",
       "      <th>hours_per_week</th>\n",
       "      <th>native_country</th>\n",
       "      <th>salary</th>\n",
       "    </tr>\n",
       "  </thead>\n",
       "  <tbody>\n",
       "    <tr>\n",
       "      <th>0</th>\n",
       "      <td>39</td>\n",
       "      <td>State-gov</td>\n",
       "      <td>77516</td>\n",
       "      <td>Bachelors</td>\n",
       "      <td>13</td>\n",
       "      <td>Never-married</td>\n",
       "      <td>Adm-clerical</td>\n",
       "      <td>Not-in-family</td>\n",
       "      <td>White</td>\n",
       "      <td>Male</td>\n",
       "      <td>2174</td>\n",
       "      <td>0</td>\n",
       "      <td>40</td>\n",
       "      <td>United-States</td>\n",
       "      <td>&lt;=50K</td>\n",
       "    </tr>\n",
       "    <tr>\n",
       "      <th>1</th>\n",
       "      <td>50</td>\n",
       "      <td>Self-emp-not-inc</td>\n",
       "      <td>83311</td>\n",
       "      <td>Bachelors</td>\n",
       "      <td>13</td>\n",
       "      <td>Married-civ-spouse</td>\n",
       "      <td>Exec-managerial</td>\n",
       "      <td>Husband</td>\n",
       "      <td>White</td>\n",
       "      <td>Male</td>\n",
       "      <td>0</td>\n",
       "      <td>0</td>\n",
       "      <td>13</td>\n",
       "      <td>United-States</td>\n",
       "      <td>&lt;=50K</td>\n",
       "    </tr>\n",
       "    <tr>\n",
       "      <th>2</th>\n",
       "      <td>38</td>\n",
       "      <td>Private</td>\n",
       "      <td>215646</td>\n",
       "      <td>HS-grad</td>\n",
       "      <td>9</td>\n",
       "      <td>Divorced</td>\n",
       "      <td>Handlers-cleaners</td>\n",
       "      <td>Not-in-family</td>\n",
       "      <td>White</td>\n",
       "      <td>Male</td>\n",
       "      <td>0</td>\n",
       "      <td>0</td>\n",
       "      <td>40</td>\n",
       "      <td>United-States</td>\n",
       "      <td>&lt;=50K</td>\n",
       "    </tr>\n",
       "    <tr>\n",
       "      <th>3</th>\n",
       "      <td>53</td>\n",
       "      <td>Private</td>\n",
       "      <td>234721</td>\n",
       "      <td>11th</td>\n",
       "      <td>7</td>\n",
       "      <td>Married-civ-spouse</td>\n",
       "      <td>Handlers-cleaners</td>\n",
       "      <td>Husband</td>\n",
       "      <td>Black</td>\n",
       "      <td>Male</td>\n",
       "      <td>0</td>\n",
       "      <td>0</td>\n",
       "      <td>40</td>\n",
       "      <td>United-States</td>\n",
       "      <td>&lt;=50K</td>\n",
       "    </tr>\n",
       "    <tr>\n",
       "      <th>4</th>\n",
       "      <td>28</td>\n",
       "      <td>Private</td>\n",
       "      <td>338409</td>\n",
       "      <td>Bachelors</td>\n",
       "      <td>13</td>\n",
       "      <td>Married-civ-spouse</td>\n",
       "      <td>Prof-specialty</td>\n",
       "      <td>Wife</td>\n",
       "      <td>Black</td>\n",
       "      <td>Female</td>\n",
       "      <td>0</td>\n",
       "      <td>0</td>\n",
       "      <td>40</td>\n",
       "      <td>Cuba</td>\n",
       "      <td>&lt;=50K</td>\n",
       "    </tr>\n",
       "    <tr>\n",
       "      <th>...</th>\n",
       "      <td>...</td>\n",
       "      <td>...</td>\n",
       "      <td>...</td>\n",
       "      <td>...</td>\n",
       "      <td>...</td>\n",
       "      <td>...</td>\n",
       "      <td>...</td>\n",
       "      <td>...</td>\n",
       "      <td>...</td>\n",
       "      <td>...</td>\n",
       "      <td>...</td>\n",
       "      <td>...</td>\n",
       "      <td>...</td>\n",
       "      <td>...</td>\n",
       "      <td>...</td>\n",
       "    </tr>\n",
       "    <tr>\n",
       "      <th>15677</th>\n",
       "      <td>71</td>\n",
       "      <td>?</td>\n",
       "      <td>287372</td>\n",
       "      <td>Doctorate</td>\n",
       "      <td>16</td>\n",
       "      <td>Married-civ-spouse</td>\n",
       "      <td>?</td>\n",
       "      <td>Husband</td>\n",
       "      <td>White</td>\n",
       "      <td>Male</td>\n",
       "      <td>0</td>\n",
       "      <td>0</td>\n",
       "      <td>10</td>\n",
       "      <td>United-States</td>\n",
       "      <td>&gt;50K</td>\n",
       "    </tr>\n",
       "    <tr>\n",
       "      <th>15678</th>\n",
       "      <td>39</td>\n",
       "      <td>Local-gov</td>\n",
       "      <td>111499</td>\n",
       "      <td>Assoc-acdm</td>\n",
       "      <td>12</td>\n",
       "      <td>Married-civ-spouse</td>\n",
       "      <td>Adm-clerical</td>\n",
       "      <td>Wife</td>\n",
       "      <td>White</td>\n",
       "      <td>Female</td>\n",
       "      <td>0</td>\n",
       "      <td>0</td>\n",
       "      <td>20</td>\n",
       "      <td>United-States</td>\n",
       "      <td>&gt;50K</td>\n",
       "    </tr>\n",
       "    <tr>\n",
       "      <th>15679</th>\n",
       "      <td>53</td>\n",
       "      <td>Private</td>\n",
       "      <td>321865</td>\n",
       "      <td>Masters</td>\n",
       "      <td>14</td>\n",
       "      <td>Married-civ-spouse</td>\n",
       "      <td>Exec-managerial</td>\n",
       "      <td>Husband</td>\n",
       "      <td>White</td>\n",
       "      <td>Male</td>\n",
       "      <td>0</td>\n",
       "      <td>0</td>\n",
       "      <td>40</td>\n",
       "      <td>United-States</td>\n",
       "      <td>&gt;50K</td>\n",
       "    </tr>\n",
       "    <tr>\n",
       "      <th>15680</th>\n",
       "      <td>40</td>\n",
       "      <td>Private</td>\n",
       "      <td>154374</td>\n",
       "      <td>HS-grad</td>\n",
       "      <td>9</td>\n",
       "      <td>Married-civ-spouse</td>\n",
       "      <td>Machine-op-inspct</td>\n",
       "      <td>Husband</td>\n",
       "      <td>White</td>\n",
       "      <td>Male</td>\n",
       "      <td>0</td>\n",
       "      <td>0</td>\n",
       "      <td>40</td>\n",
       "      <td>United-States</td>\n",
       "      <td>&gt;50K</td>\n",
       "    </tr>\n",
       "    <tr>\n",
       "      <th>15681</th>\n",
       "      <td>52</td>\n",
       "      <td>Self-emp-inc</td>\n",
       "      <td>287927</td>\n",
       "      <td>HS-grad</td>\n",
       "      <td>9</td>\n",
       "      <td>Married-civ-spouse</td>\n",
       "      <td>Exec-managerial</td>\n",
       "      <td>Wife</td>\n",
       "      <td>White</td>\n",
       "      <td>Female</td>\n",
       "      <td>15024</td>\n",
       "      <td>0</td>\n",
       "      <td>40</td>\n",
       "      <td>United-States</td>\n",
       "      <td>&gt;50K</td>\n",
       "    </tr>\n",
       "  </tbody>\n",
       "</table>\n",
       "<p>15682 rows × 15 columns</p>\n",
       "</div>"
      ],
      "text/plain": [
       "       age         workclass  final_weight   education  education_num  \\\n",
       "0       39         State-gov         77516   Bachelors             13   \n",
       "1       50  Self-emp-not-inc         83311   Bachelors             13   \n",
       "2       38           Private        215646     HS-grad              9   \n",
       "3       53           Private        234721        11th              7   \n",
       "4       28           Private        338409   Bachelors             13   \n",
       "...    ...               ...           ...         ...            ...   \n",
       "15677   71                 ?        287372   Doctorate             16   \n",
       "15678   39         Local-gov        111499  Assoc-acdm             12   \n",
       "15679   53           Private        321865     Masters             14   \n",
       "15680   40           Private        154374     HS-grad              9   \n",
       "15681   52      Self-emp-inc        287927     HS-grad              9   \n",
       "\n",
       "           marital_status         occupation   relationship   race     sex  \\\n",
       "0           Never-married       Adm-clerical  Not-in-family  White    Male   \n",
       "1      Married-civ-spouse    Exec-managerial        Husband  White    Male   \n",
       "2                Divorced  Handlers-cleaners  Not-in-family  White    Male   \n",
       "3      Married-civ-spouse  Handlers-cleaners        Husband  Black    Male   \n",
       "4      Married-civ-spouse     Prof-specialty           Wife  Black  Female   \n",
       "...                   ...                ...            ...    ...     ...   \n",
       "15677  Married-civ-spouse                  ?        Husband  White    Male   \n",
       "15678  Married-civ-spouse       Adm-clerical           Wife  White  Female   \n",
       "15679  Married-civ-spouse    Exec-managerial        Husband  White    Male   \n",
       "15680  Married-civ-spouse  Machine-op-inspct        Husband  White    Male   \n",
       "15681  Married-civ-spouse    Exec-managerial           Wife  White  Female   \n",
       "\n",
       "       capital_gain  capital_loss  hours_per_week native_country salary  \n",
       "0              2174             0              40  United-States  <=50K  \n",
       "1                 0             0              13  United-States  <=50K  \n",
       "2                 0             0              40  United-States  <=50K  \n",
       "3                 0             0              40  United-States  <=50K  \n",
       "4                 0             0              40           Cuba  <=50K  \n",
       "...             ...           ...             ...            ...    ...  \n",
       "15677             0             0              10  United-States   >50K  \n",
       "15678             0             0              20  United-States   >50K  \n",
       "15679             0             0              40  United-States   >50K  \n",
       "15680             0             0              40  United-States   >50K  \n",
       "15681         15024             0              40  United-States   >50K  \n",
       "\n",
       "[15682 rows x 15 columns]"
      ]
     },
     "execution_count": 20,
     "metadata": {},
     "output_type": "execute_result"
    }
   ],
   "source": [
    "# 样本筛选拷贝\n",
    "negative = adults.loc[adults.salary==\"<=50K\"].iloc[:7841].copy()\n",
    "positive = adults.loc[adults.salary==\">50K\"].copy()\n",
    "# 及联\n",
    "my_adults = pd.concat((negative,positive),ignore_index=True)\n",
    "my_adults"
   ]
  },
  {
   "cell_type": "markdown",
   "id": "07ad2e60",
   "metadata": {
    "ExecuteTime": {
     "end_time": "2023-02-13T08:59:38.155269Z",
     "start_time": "2023-02-13T08:59:35.779139Z"
    }
   },
   "source": [
    "### 数据提取"
   ]
  },
  {
   "cell_type": "code",
   "execution_count": 21,
   "id": "34601a35",
   "metadata": {
    "ExecuteTime": {
     "end_time": "2023-02-14T01:03:44.563940Z",
     "start_time": "2023-02-14T01:03:44.489280Z"
    }
   },
   "outputs": [
    {
     "data": {
      "text/html": [
       "<div>\n",
       "<style scoped>\n",
       "    .dataframe tbody tr th:only-of-type {\n",
       "        vertical-align: middle;\n",
       "    }\n",
       "\n",
       "    .dataframe tbody tr th {\n",
       "        vertical-align: top;\n",
       "    }\n",
       "\n",
       "    .dataframe thead th {\n",
       "        text-align: right;\n",
       "    }\n",
       "</style>\n",
       "<table border=\"1\" class=\"dataframe\">\n",
       "  <thead>\n",
       "    <tr style=\"text-align: right;\">\n",
       "      <th></th>\n",
       "      <th>age</th>\n",
       "      <th>education</th>\n",
       "      <th>occupation</th>\n",
       "      <th>hours_per_week</th>\n",
       "    </tr>\n",
       "  </thead>\n",
       "  <tbody>\n",
       "    <tr>\n",
       "      <th>0</th>\n",
       "      <td>39</td>\n",
       "      <td>Bachelors</td>\n",
       "      <td>Adm-clerical</td>\n",
       "      <td>40</td>\n",
       "    </tr>\n",
       "    <tr>\n",
       "      <th>1</th>\n",
       "      <td>50</td>\n",
       "      <td>Bachelors</td>\n",
       "      <td>Exec-managerial</td>\n",
       "      <td>13</td>\n",
       "    </tr>\n",
       "    <tr>\n",
       "      <th>2</th>\n",
       "      <td>38</td>\n",
       "      <td>HS-grad</td>\n",
       "      <td>Handlers-cleaners</td>\n",
       "      <td>40</td>\n",
       "    </tr>\n",
       "    <tr>\n",
       "      <th>3</th>\n",
       "      <td>53</td>\n",
       "      <td>11th</td>\n",
       "      <td>Handlers-cleaners</td>\n",
       "      <td>40</td>\n",
       "    </tr>\n",
       "    <tr>\n",
       "      <th>4</th>\n",
       "      <td>28</td>\n",
       "      <td>Bachelors</td>\n",
       "      <td>Prof-specialty</td>\n",
       "      <td>40</td>\n",
       "    </tr>\n",
       "    <tr>\n",
       "      <th>...</th>\n",
       "      <td>...</td>\n",
       "      <td>...</td>\n",
       "      <td>...</td>\n",
       "      <td>...</td>\n",
       "    </tr>\n",
       "    <tr>\n",
       "      <th>15677</th>\n",
       "      <td>71</td>\n",
       "      <td>Doctorate</td>\n",
       "      <td>?</td>\n",
       "      <td>10</td>\n",
       "    </tr>\n",
       "    <tr>\n",
       "      <th>15678</th>\n",
       "      <td>39</td>\n",
       "      <td>Assoc-acdm</td>\n",
       "      <td>Adm-clerical</td>\n",
       "      <td>20</td>\n",
       "    </tr>\n",
       "    <tr>\n",
       "      <th>15679</th>\n",
       "      <td>53</td>\n",
       "      <td>Masters</td>\n",
       "      <td>Exec-managerial</td>\n",
       "      <td>40</td>\n",
       "    </tr>\n",
       "    <tr>\n",
       "      <th>15680</th>\n",
       "      <td>40</td>\n",
       "      <td>HS-grad</td>\n",
       "      <td>Machine-op-inspct</td>\n",
       "      <td>40</td>\n",
       "    </tr>\n",
       "    <tr>\n",
       "      <th>15681</th>\n",
       "      <td>52</td>\n",
       "      <td>HS-grad</td>\n",
       "      <td>Exec-managerial</td>\n",
       "      <td>40</td>\n",
       "    </tr>\n",
       "  </tbody>\n",
       "</table>\n",
       "<p>15682 rows × 4 columns</p>\n",
       "</div>"
      ],
      "text/plain": [
       "       age   education         occupation  hours_per_week\n",
       "0       39   Bachelors       Adm-clerical              40\n",
       "1       50   Bachelors    Exec-managerial              13\n",
       "2       38     HS-grad  Handlers-cleaners              40\n",
       "3       53        11th  Handlers-cleaners              40\n",
       "4       28   Bachelors     Prof-specialty              40\n",
       "...    ...         ...                ...             ...\n",
       "15677   71   Doctorate                  ?              10\n",
       "15678   39  Assoc-acdm       Adm-clerical              20\n",
       "15679   53     Masters    Exec-managerial              40\n",
       "15680   40     HS-grad  Machine-op-inspct              40\n",
       "15681   52     HS-grad    Exec-managerial              40\n",
       "\n",
       "[15682 rows x 4 columns]"
      ]
     },
     "execution_count": 21,
     "metadata": {},
     "output_type": "execute_result"
    }
   ],
   "source": [
    "samples = my_adults[[\"age\",\"education\",\"occupation\",\"hours_per_week\"]].copy()\n",
    "salary = my_adults.salary.copy()\n",
    "samples"
   ]
  },
  {
   "cell_type": "markdown",
   "id": "2737b7cf",
   "metadata": {},
   "source": [
    "### 数值化处理"
   ]
  },
  {
   "cell_type": "code",
   "execution_count": 22,
   "id": "fb02d6a0",
   "metadata": {
    "ExecuteTime": {
     "end_time": "2023-02-14T01:03:45.421782Z",
     "start_time": "2023-02-14T01:03:45.369687Z"
    }
   },
   "outputs": [],
   "source": [
    "target = salary.map({\">50K\":1,\"<=50K\":0})"
   ]
  },
  {
   "cell_type": "code",
   "execution_count": 23,
   "id": "f4007e98",
   "metadata": {
    "ExecuteTime": {
     "end_time": "2023-02-14T01:03:45.902228Z",
     "start_time": "2023-02-14T01:03:45.839213Z"
    }
   },
   "outputs": [
    {
     "data": {
      "text/plain": [
       "array(['Bachelors', 'HS-grad', '11th', 'Masters', '9th', 'Assoc-acdm',\n",
       "       '7th-8th', 'Some-college', 'Assoc-voc', '5th-6th', '10th',\n",
       "       '1st-4th', 'Preschool', '12th', 'Doctorate', 'Prof-school'],\n",
       "      dtype=object)"
      ]
     },
     "execution_count": 23,
     "metadata": {},
     "output_type": "execute_result"
    }
   ],
   "source": [
    "samples.education.unique()"
   ]
  },
  {
   "cell_type": "code",
   "execution_count": 24,
   "id": "fb2a56ae",
   "metadata": {
    "ExecuteTime": {
     "end_time": "2023-02-14T01:03:47.170637Z",
     "start_time": "2023-02-14T01:03:46.517209Z"
    },
    "scrolled": true
   },
   "outputs": [
    {
     "data": {
      "text/plain": [
       "0         [[0]]\n",
       "1         [[0]]\n",
       "2         [[1]]\n",
       "3         [[2]]\n",
       "4         [[0]]\n",
       "          ...  \n",
       "15677    [[14]]\n",
       "15678     [[5]]\n",
       "15679     [[3]]\n",
       "15680     [[1]]\n",
       "15681     [[1]]\n",
       "Name: education, Length: 15682, dtype: object"
      ]
     },
     "execution_count": 24,
     "metadata": {},
     "output_type": "execute_result"
    }
   ],
   "source": [
    "unique_array = samples.education.unique()\n",
    "def map_function(x):\n",
    "    # np.argwhere 返回满足条件的值的索引\n",
    "    return np.argwhere(x==unique_array)\n",
    "samples.education = samples.education.map(map_function)\n",
    "samples.education"
   ]
  },
  {
   "cell_type": "code",
   "execution_count": 25,
   "id": "9ed8ffdd",
   "metadata": {
    "ExecuteTime": {
     "end_time": "2023-02-14T01:03:53.104210Z",
     "start_time": "2023-02-14T01:03:52.101163Z"
    }
   },
   "outputs": [
    {
     "data": {
      "text/plain": [
       "0         [[0]]\n",
       "1         [[1]]\n",
       "2         [[2]]\n",
       "3         [[2]]\n",
       "4         [[3]]\n",
       "          ...  \n",
       "15677    [[12]]\n",
       "15678     [[0]]\n",
       "15679     [[1]]\n",
       "15680     [[8]]\n",
       "15681     [[1]]\n",
       "Name: occupation, Length: 15682, dtype: object"
      ]
     },
     "execution_count": 25,
     "metadata": {},
     "output_type": "execute_result"
    }
   ],
   "source": [
    "unique_array = samples.occupation.unique()\n",
    "def map_function(x):\n",
    "    # np.argwhere 返回满足条件的值的索引\n",
    "    return np.argwhere(x==unique_array)\n",
    "samples.occupation = samples.occupation.map(map_function)\n",
    "samples.occupation"
   ]
  },
  {
   "cell_type": "code",
   "execution_count": 27,
   "id": "529e5668",
   "metadata": {
    "ExecuteTime": {
     "end_time": "2023-02-14T01:05:23.717876Z",
     "start_time": "2023-02-14T01:05:23.698820Z"
    }
   },
   "outputs": [],
   "source": [
    "train = samples.copy()"
   ]
  },
  {
   "cell_type": "markdown",
   "id": "42cc162f",
   "metadata": {},
   "source": [
    "### 选择模型"
   ]
  },
  {
   "cell_type": "code",
   "execution_count": 28,
   "id": "1194befe",
   "metadata": {
    "ExecuteTime": {
     "end_time": "2023-02-14T01:07:34.322483Z",
     "start_time": "2023-02-14T01:07:34.313116Z"
    }
   },
   "outputs": [],
   "source": [
    "from sklearn.neighbors import KNeighborsClassifier\n",
    "from sklearn.model_selection import train_test_split"
   ]
  },
  {
   "cell_type": "code",
   "execution_count": 39,
   "id": "146fa808",
   "metadata": {
    "ExecuteTime": {
     "end_time": "2023-02-14T01:20:27.385453Z",
     "start_time": "2023-02-14T01:20:27.355666Z"
    }
   },
   "outputs": [],
   "source": [
    "base_model = KNeighborsClassifier(n_neighbors=5,weights=\"distance\")"
   ]
  },
  {
   "cell_type": "code",
   "execution_count": 36,
   "id": "f4f1f953",
   "metadata": {
    "ExecuteTime": {
     "end_time": "2023-02-14T01:19:53.004275Z",
     "start_time": "2023-02-14T01:19:52.982398Z"
    }
   },
   "outputs": [],
   "source": [
    "def many_predict(train,target,model,count):\n",
    "    test_scores = []\n",
    "    train_scores = []\n",
    "    for i in range(count):\n",
    "        X_train,X_test,y_train,y_test = train_test_split(train,target,test_size=0.2,random_state=i)\n",
    "        model.fit(X_train,y_train)\n",
    "        test_scores.append(model.score(X_test,y_test))\n",
    "        train_scores.append(model.score(X_train,y_train))\n",
    "    return np.array(train_scores),np.array(test_scores)"
   ]
  },
  {
   "cell_type": "code",
   "execution_count": 40,
   "id": "8fe41535",
   "metadata": {
    "ExecuteTime": {
     "end_time": "2023-02-14T01:20:43.497581Z",
     "start_time": "2023-02-14T01:20:30.817216Z"
    }
   },
   "outputs": [],
   "source": [
    "train_scores,test_scores = many_predict(train,target,base_model,30)"
   ]
  },
  {
   "cell_type": "code",
   "execution_count": 41,
   "id": "a4e392d2",
   "metadata": {
    "ExecuteTime": {
     "end_time": "2023-02-14T01:21:16.789301Z",
     "start_time": "2023-02-14T01:21:16.765991Z"
    }
   },
   "outputs": [
    {
     "name": "stdout",
     "output_type": "stream",
     "text": [
      "train_score_mean:0.8963464859837915,train_score_std0.0013856215407719052\n",
      "test_score_mean0.6839443204760386,test_score_mean0.006193192182677071\n"
     ]
    }
   ],
   "source": [
    "print(f\"train_score_mean:{train_scores.mean()},train_score_std{train_scores.std()}\")\n",
    "print(f\"test_score_mean{test_scores.mean()},test_score_mean{test_scores.std()}\")"
   ]
  },
  {
   "cell_type": "markdown",
   "id": "fbb64a09",
   "metadata": {},
   "source": [
    "### 模型调优"
   ]
  },
  {
   "cell_type": "code",
   "execution_count": 43,
   "id": "dfe6f5e2",
   "metadata": {
    "ExecuteTime": {
     "end_time": "2023-02-14T01:24:55.165322Z",
     "start_time": "2023-02-14T01:24:55.143074Z"
    }
   },
   "outputs": [
    {
     "data": {
      "text/plain": [
       "112.0071426293877"
      ]
     },
     "execution_count": 43,
     "metadata": {},
     "output_type": "execute_result"
    }
   ],
   "source": [
    "np.sqrt(train.shape[0]*0.8)"
   ]
  },
  {
   "cell_type": "code",
   "execution_count": 45,
   "id": "10476f64",
   "metadata": {
    "ExecuteTime": {
     "end_time": "2023-02-14T01:25:20.866766Z",
     "start_time": "2023-02-14T01:25:20.810996Z"
    }
   },
   "outputs": [
    {
     "data": {
      "text/plain": [
       "array([  3,  17,  31,  45,  59,  73,  87, 101])"
      ]
     },
     "execution_count": 45,
     "metadata": {},
     "output_type": "execute_result"
    }
   ],
   "source": [
    "k_list = np.arange(3,111,step=14)\n",
    "k_list"
   ]
  },
  {
   "cell_type": "code",
   "execution_count": 49,
   "id": "abc7bcd8",
   "metadata": {
    "ExecuteTime": {
     "end_time": "2023-02-14T01:41:28.283300Z",
     "start_time": "2023-02-14T01:39:14.901098Z"
    }
   },
   "outputs": [
    {
     "data": {
      "text/html": [
       "<div>\n",
       "<style scoped>\n",
       "    .dataframe tbody tr th:only-of-type {\n",
       "        vertical-align: middle;\n",
       "    }\n",
       "\n",
       "    .dataframe tbody tr th {\n",
       "        vertical-align: top;\n",
       "    }\n",
       "\n",
       "    .dataframe thead th {\n",
       "        text-align: right;\n",
       "    }\n",
       "</style>\n",
       "<table border=\"1\" class=\"dataframe\">\n",
       "  <thead>\n",
       "    <tr style=\"text-align: right;\">\n",
       "      <th></th>\n",
       "      <th>K</th>\n",
       "      <th>TRAIN</th>\n",
       "      <th>TEST</th>\n",
       "    </tr>\n",
       "  </thead>\n",
       "  <tbody>\n",
       "    <tr>\n",
       "      <th>0</th>\n",
       "      <td>3</td>\n",
       "      <td>0.892268</td>\n",
       "      <td>0.676761</td>\n",
       "    </tr>\n",
       "    <tr>\n",
       "      <th>1</th>\n",
       "      <td>17</td>\n",
       "      <td>0.898334</td>\n",
       "      <td>0.691170</td>\n",
       "    </tr>\n",
       "    <tr>\n",
       "      <th>2</th>\n",
       "      <td>31</td>\n",
       "      <td>0.898334</td>\n",
       "      <td>0.691457</td>\n",
       "    </tr>\n",
       "    <tr>\n",
       "      <th>3</th>\n",
       "      <td>45</td>\n",
       "      <td>0.898334</td>\n",
       "      <td>0.690947</td>\n",
       "    </tr>\n",
       "    <tr>\n",
       "      <th>4</th>\n",
       "      <td>59</td>\n",
       "      <td>0.898334</td>\n",
       "      <td>0.691393</td>\n",
       "    </tr>\n",
       "    <tr>\n",
       "      <th>5</th>\n",
       "      <td>73</td>\n",
       "      <td>0.898334</td>\n",
       "      <td>0.691234</td>\n",
       "    </tr>\n",
       "    <tr>\n",
       "      <th>6</th>\n",
       "      <td>87</td>\n",
       "      <td>0.898334</td>\n",
       "      <td>0.690819</td>\n",
       "    </tr>\n",
       "    <tr>\n",
       "      <th>7</th>\n",
       "      <td>101</td>\n",
       "      <td>0.898334</td>\n",
       "      <td>0.690532</td>\n",
       "    </tr>\n",
       "  </tbody>\n",
       "</table>\n",
       "</div>"
      ],
      "text/plain": [
       "     K     TRAIN      TEST\n",
       "0    3  0.892268  0.676761\n",
       "1   17  0.898334  0.691170\n",
       "2   31  0.898334  0.691457\n",
       "3   45  0.898334  0.690947\n",
       "4   59  0.898334  0.691393\n",
       "5   73  0.898334  0.691234\n",
       "6   87  0.898334  0.690819\n",
       "7  101  0.898334  0.690532"
      ]
     },
     "execution_count": 49,
     "metadata": {},
     "output_type": "execute_result"
    }
   ],
   "source": [
    "train_mean_scores = []\n",
    "test_mean_scores = []\n",
    "for k in k_list:\n",
    "    model = KNeighborsClassifier(n_neighbors=k,weights=\"distance\")\n",
    "    train_scores,test_scores = many_predict(train,target,model,10)\n",
    "    train_mean_scores.append(train_scores.mean())\n",
    "    test_mean_scores.append(test_scores.mean())\n",
    "\n",
    "result = pd.DataFrame(data={\n",
    "    \"K\":k_list,\n",
    "    \"TRAIN\":train_mean_scores,\n",
    "    \"TEST\":test_mean_scores\n",
    "}) \n",
    "result"
   ]
  },
  {
   "cell_type": "code",
   "execution_count": 50,
   "id": "9c5ca326",
   "metadata": {
    "ExecuteTime": {
     "end_time": "2023-02-14T01:41:29.582885Z",
     "start_time": "2023-02-14T01:41:28.346896Z"
    }
   },
   "outputs": [
    {
     "data": {
      "text/plain": [
       "<AxesSubplot:xlabel='K'>"
      ]
     },
     "execution_count": 50,
     "metadata": {},
     "output_type": "execute_result"
    },
    {
     "data": {
      "image/png": "[encoded data removed]",
      "text/plain": [
       "<Figure size 640x480 with 1 Axes>"
      ]
     },
     "metadata": {},
     "output_type": "display_data"
    }
   ],
   "source": [
    "result.set_index(\"K\").plot()"
   ]
  },
  {
   "cell_type": "code",
   "execution_count": null,
   "id": "b29cff3e",
   "metadata": {},
   "outputs": [],
   "source": []
  }
 ],
 "metadata": {
  "kernelspec": {
   "display_name": "Python 3 (ipykernel)",
   "language": "python",
   "name": "python3"
  },
  "language_info": {
   "codemirror_mode": {
    "name": "ipython",
    "version": 3
   },
   "file_extension": ".py",
   "mimetype": "text/x-python",
   "name": "python",
   "nbconvert_exporter": "python",
   "pygments_lexer": "ipython3",
   "version": "3.9.13"
  },
  "toc": {
   "base_numbering": 1,
   "nav_menu": {},
   "number_sections": true,
   "sideBar": true,
   "skip_h1_title": false,
   "title_cell": "Table of Contents",
   "title_sidebar": "Contents",
   "toc_cell": false,
   "toc_position": {},
   "toc_section_display": true,
   "toc_window_display": true
  }
 },
 "nbformat": 4,
 "nbformat_minor": 5
}
