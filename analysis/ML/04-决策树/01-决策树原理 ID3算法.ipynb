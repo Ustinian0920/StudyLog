{
 "cells": [
  {
   "cell_type": "code",
   "execution_count": 5,
   "id": "be51f870",
   "metadata": {
    "ExecuteTime": {
     "end_time": "2023-02-17T02:43:20.501861Z",
     "start_time": "2023-02-17T02:43:20.432239Z"
    }
   },
   "outputs": [],
   "source": [
    "import pandas as pd\n",
    "import numpy as np\n",
    "import seaborn as sns\n",
    "import matplotlib.pyplot as plt\n",
    "import math\n",
    "%matplotlib inline\n",
    "from sklearn.model_selection import train_test_split,cross_val_score\n",
    "from matplotlib.colors import ListedColormap\n",
    "sns.set()\n",
    "colors = sns.color_palette(\"husl\")"
   ]
  },
  {
   "cell_type": "code",
   "execution_count": 12,
   "id": "fe376016",
   "metadata": {
    "ExecuteTime": {
     "end_time": "2023-02-17T02:48:49.987632Z",
     "start_time": "2023-02-17T02:48:49.927273Z"
    },
    "scrolled": true
   },
   "outputs": [
    {
     "data": {
      "text/html": [
       "<div>\n",
       "<style scoped>\n",
       "    .dataframe tbody tr th:only-of-type {\n",
       "        vertical-align: middle;\n",
       "    }\n",
       "\n",
       "    .dataframe tbody tr th {\n",
       "        vertical-align: top;\n",
       "    }\n",
       "\n",
       "    .dataframe thead th {\n",
       "        text-align: right;\n",
       "    }\n",
       "</style>\n",
       "<table border=\"1\" class=\"dataframe\">\n",
       "  <thead>\n",
       "    <tr style=\"text-align: right;\">\n",
       "      <th></th>\n",
       "      <th>好友密度</th>\n",
       "      <th>真实用户</th>\n",
       "    </tr>\n",
       "  </thead>\n",
       "  <tbody>\n",
       "    <tr>\n",
       "      <th>0</th>\n",
       "      <td>s</td>\n",
       "      <td>no</td>\n",
       "    </tr>\n",
       "    <tr>\n",
       "      <th>1</th>\n",
       "      <td>m</td>\n",
       "      <td>yes</td>\n",
       "    </tr>\n",
       "    <tr>\n",
       "      <th>2</th>\n",
       "      <td>m</td>\n",
       "      <td>yes</td>\n",
       "    </tr>\n",
       "    <tr>\n",
       "      <th>3</th>\n",
       "      <td>m</td>\n",
       "      <td>no</td>\n",
       "    </tr>\n",
       "    <tr>\n",
       "      <th>4</th>\n",
       "      <td>m</td>\n",
       "      <td>yes</td>\n",
       "    </tr>\n",
       "    <tr>\n",
       "      <th>5</th>\n",
       "      <td>m</td>\n",
       "      <td>no</td>\n",
       "    </tr>\n",
       "    <tr>\n",
       "      <th>6</th>\n",
       "      <td>s</td>\n",
       "      <td>no</td>\n",
       "    </tr>\n",
       "    <tr>\n",
       "      <th>7</th>\n",
       "      <td>m</td>\n",
       "      <td>yes</td>\n",
       "    </tr>\n",
       "    <tr>\n",
       "      <th>8</th>\n",
       "      <td>s</td>\n",
       "      <td>yes</td>\n",
       "    </tr>\n",
       "    <tr>\n",
       "      <th>9</th>\n",
       "      <td>s</td>\n",
       "      <td>no</td>\n",
       "    </tr>\n",
       "  </tbody>\n",
       "</table>\n",
       "</div>"
      ],
      "text/plain": [
       "  好友密度 真实用户\n",
       "0    s   no\n",
       "1    m  yes\n",
       "2    m  yes\n",
       "3    m   no\n",
       "4    m  yes\n",
       "5    m   no\n",
       "6    s   no\n",
       "7    m  yes\n",
       "8    s  yes\n",
       "9    s   no"
      ]
     },
     "execution_count": 12,
     "metadata": {},
     "output_type": "execute_result"
    }
   ],
   "source": [
    "df = pd.DataFrame(data={\n",
    "    \"好友密度\":[\"s\", \"m\",  \"m\",  \"m\",  \"m\",  \"m\",  \"s\", \"m\",  \"s\",  \"s\"],\n",
    "    \"真实用户\":[\"no\",\"yes\",\"yes\",\"no\",\"yes\",\"no\",\"no\",\"yes\",\"yes\",\"no\"]\n",
    "    \n",
    "})\n",
    "df"
   ]
  },
  {
   "cell_type": "markdown",
   "id": "23cf1654",
   "metadata": {
    "ExecuteTime": {
     "end_time": "2023-02-17T02:51:57.480454Z",
     "start_time": "2023-02-17T02:51:57.431709Z"
    }
   },
   "source": [
    "### 原始数据集的信息熵"
   ]
  },
  {
   "cell_type": "code",
   "execution_count": 6,
   "id": "d258d816",
   "metadata": {
    "ExecuteTime": {
     "end_time": "2023-02-17T02:44:06.307562Z",
     "start_time": "2023-02-17T02:44:06.275452Z"
    }
   },
   "outputs": [
    {
     "data": {
      "text/plain": [
       "0.8812908992306927"
      ]
     },
     "execution_count": 6,
     "metadata": {},
     "output_type": "execute_result"
    }
   ],
   "source": [
    "info_H = -0.3*math.log2(0.3)-0.7*math.log2(0.7)\n",
    "info_H"
   ]
  },
  {
   "cell_type": "markdown",
   "id": "ec667d49",
   "metadata": {},
   "source": [
    "### 按照好友密度划分的信息熵"
   ]
  },
  {
   "cell_type": "code",
   "execution_count": 18,
   "id": "f53f9e75",
   "metadata": {
    "ExecuteTime": {
     "end_time": "2023-02-17T02:58:00.432787Z",
     "start_time": "2023-02-17T02:58:00.413519Z"
    }
   },
   "outputs": [
    {
     "data": {
      "text/plain": [
       "0.8112781244591328"
      ]
     },
     "execution_count": 18,
     "metadata": {},
     "output_type": "execute_result"
    }
   ],
   "source": [
    "# s -> no no yes no\n",
    "info_L_s = -(3/4)*math.log2(3/4)-(1/4)*math.log2(1/4)\n",
    "info_L_s"
   ]
  },
  {
   "cell_type": "code",
   "execution_count": 19,
   "id": "9498fd36",
   "metadata": {
    "ExecuteTime": {
     "end_time": "2023-02-17T02:58:37.545745Z",
     "start_time": "2023-02-17T02:58:37.526305Z"
    }
   },
   "outputs": [
    {
     "data": {
      "text/plain": [
       "0.9182958340544896"
      ]
     },
     "execution_count": 19,
     "metadata": {},
     "output_type": "execute_result"
    }
   ],
   "source": [
    "# m -> yes yes no yes no yes\n",
    "info_L_m = -(4/6)*math.log2(4/6)-(2/6)*math.log2(2/6)\n",
    "info_L_m"
   ]
  },
  {
   "cell_type": "code",
   "execution_count": 20,
   "id": "60a86b13",
   "metadata": {
    "ExecuteTime": {
     "end_time": "2023-02-17T02:59:43.164855Z",
     "start_time": "2023-02-17T02:59:43.134317Z"
    }
   },
   "outputs": [
    {
     "data": {
      "text/plain": [
       "0.22646625064904052"
      ]
     },
     "execution_count": 20,
     "metadata": {},
     "output_type": "execute_result"
    }
   ],
   "source": [
    "# 好友密度 -> s m m m m m s m s s\n",
    "info_L = -(4/10)*info_L_s+(6/10)*info_L_m\n",
    "info_L"
   ]
  },
  {
   "cell_type": "markdown",
   "id": "49df3d68",
   "metadata": {},
   "source": [
    "### 信息增益"
   ]
  },
  {
   "cell_type": "code",
   "execution_count": 21,
   "id": "190c30e5",
   "metadata": {
    "ExecuteTime": {
     "end_time": "2023-02-17T02:59:45.815332Z",
     "start_time": "2023-02-17T02:59:45.802761Z"
    }
   },
   "outputs": [
    {
     "data": {
      "text/plain": [
       "0.6548246485816522"
      ]
     },
     "execution_count": 21,
     "metadata": {},
     "output_type": "execute_result"
    }
   ],
   "source": [
    "info_H - info_L"
   ]
  },
  {
   "cell_type": "markdown",
   "id": "d4d1adbb",
   "metadata": {},
   "source": [
    "### 信息增益比"
   ]
  },
  {
   "cell_type": "code",
   "execution_count": 22,
   "id": "bca1921b",
   "metadata": {
    "ExecuteTime": {
     "end_time": "2023-02-17T02:59:48.932696Z",
     "start_time": "2023-02-17T02:59:48.914405Z"
    }
   },
   "outputs": [
    {
     "data": {
      "text/plain": [
       "0.7430289466886244"
      ]
     },
     "execution_count": 22,
     "metadata": {},
     "output_type": "execute_result"
    }
   ],
   "source": [
    "(info_H - info_L)/info_H"
   ]
  }
 ],
 "metadata": {
  "kernelspec": {
   "display_name": "Python 3 (ipykernel)",
   "language": "python",
   "name": "python3"
  },
  "language_info": {
   "codemirror_mode": {
    "name": "ipython",
    "version": 3
   },
   "file_extension": ".py",
   "mimetype": "text/x-python",
   "name": "python",
   "nbconvert_exporter": "python",
   "pygments_lexer": "ipython3",
   "version": "3.9.13"
  },
  "toc": {
   "base_numbering": 1,
   "nav_menu": {},
   "number_sections": true,
   "sideBar": true,
   "skip_h1_title": false,
   "title_cell": "Table of Contents",
   "title_sidebar": "Contents",
   "toc_cell": false,
   "toc_position": {},
   "toc_section_display": true,
   "toc_window_display": false
  }
 },
 "nbformat": 4,
 "nbformat_minor": 5
}
