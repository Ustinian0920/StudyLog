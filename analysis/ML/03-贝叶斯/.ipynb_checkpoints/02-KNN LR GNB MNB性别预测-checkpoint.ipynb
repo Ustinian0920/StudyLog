{
 "cells": [
  {
   "cell_type": "code",
   "execution_count": 1,
   "id": "4b79919d",
   "metadata": {
    "ExecuteTime": {
     "end_time": "2023-02-16T06:19:06.697012Z",
     "start_time": "2023-02-16T06:18:49.359466Z"
    }
   },
   "outputs": [],
   "source": [
    "import pandas as pd\n",
    "import numpy as np\n",
    "import seaborn as sns\n",
    "import matplotlib.pyplot as plt\n",
    "%matplotlib inline\n",
    "from sklearn.model_selection import train_test_split,cross_val_score\n",
    "from matplotlib.colors import ListedColormap\n",
    "sns.set()\n",
    "colors = sns.color_palette(\"husl\")"
   ]
  },
  {
   "cell_type": "code",
   "execution_count": 2,
   "id": "f73019ba",
   "metadata": {
    "ExecuteTime": {
     "end_time": "2023-02-16T06:20:40.950336Z",
     "start_time": "2023-02-16T06:20:40.479447Z"
    }
   },
   "outputs": [
    {
     "data": {
      "text/html": [
       "<div>\n",
       "<style scoped>\n",
       "    .dataframe tbody tr th:only-of-type {\n",
       "        vertical-align: middle;\n",
       "    }\n",
       "\n",
       "    .dataframe tbody tr th {\n",
       "        vertical-align: top;\n",
       "    }\n",
       "\n",
       "    .dataframe thead th {\n",
       "        text-align: right;\n",
       "    }\n",
       "</style>\n",
       "<table border=\"1\" class=\"dataframe\">\n",
       "  <thead>\n",
       "    <tr style=\"text-align: right;\">\n",
       "      <th></th>\n",
       "      <th>age</th>\n",
       "      <th>workclass</th>\n",
       "      <th>final_weight</th>\n",
       "      <th>education</th>\n",
       "      <th>education_num</th>\n",
       "      <th>marital_status</th>\n",
       "      <th>occupation</th>\n",
       "      <th>relationship</th>\n",
       "      <th>race</th>\n",
       "      <th>sex</th>\n",
       "      <th>capital_gain</th>\n",
       "      <th>capital_loss</th>\n",
       "      <th>hours_per_week</th>\n",
       "      <th>native_country</th>\n",
       "      <th>salary</th>\n",
       "    </tr>\n",
       "  </thead>\n",
       "  <tbody>\n",
       "    <tr>\n",
       "      <th>0</th>\n",
       "      <td>39</td>\n",
       "      <td>State-gov</td>\n",
       "      <td>77516</td>\n",
       "      <td>Bachelors</td>\n",
       "      <td>13</td>\n",
       "      <td>Never-married</td>\n",
       "      <td>Adm-clerical</td>\n",
       "      <td>Not-in-family</td>\n",
       "      <td>White</td>\n",
       "      <td>Male</td>\n",
       "      <td>2174</td>\n",
       "      <td>0</td>\n",
       "      <td>40</td>\n",
       "      <td>United-States</td>\n",
       "      <td>&lt;=50K</td>\n",
       "    </tr>\n",
       "    <tr>\n",
       "      <th>1</th>\n",
       "      <td>50</td>\n",
       "      <td>Self-emp-not-inc</td>\n",
       "      <td>83311</td>\n",
       "      <td>Bachelors</td>\n",
       "      <td>13</td>\n",
       "      <td>Married-civ-spouse</td>\n",
       "      <td>Exec-managerial</td>\n",
       "      <td>Husband</td>\n",
       "      <td>White</td>\n",
       "      <td>Male</td>\n",
       "      <td>0</td>\n",
       "      <td>0</td>\n",
       "      <td>13</td>\n",
       "      <td>United-States</td>\n",
       "      <td>&lt;=50K</td>\n",
       "    </tr>\n",
       "    <tr>\n",
       "      <th>2</th>\n",
       "      <td>38</td>\n",
       "      <td>Private</td>\n",
       "      <td>215646</td>\n",
       "      <td>HS-grad</td>\n",
       "      <td>9</td>\n",
       "      <td>Divorced</td>\n",
       "      <td>Handlers-cleaners</td>\n",
       "      <td>Not-in-family</td>\n",
       "      <td>White</td>\n",
       "      <td>Male</td>\n",
       "      <td>0</td>\n",
       "      <td>0</td>\n",
       "      <td>40</td>\n",
       "      <td>United-States</td>\n",
       "      <td>&lt;=50K</td>\n",
       "    </tr>\n",
       "    <tr>\n",
       "      <th>3</th>\n",
       "      <td>53</td>\n",
       "      <td>Private</td>\n",
       "      <td>234721</td>\n",
       "      <td>11th</td>\n",
       "      <td>7</td>\n",
       "      <td>Married-civ-spouse</td>\n",
       "      <td>Handlers-cleaners</td>\n",
       "      <td>Husband</td>\n",
       "      <td>Black</td>\n",
       "      <td>Male</td>\n",
       "      <td>0</td>\n",
       "      <td>0</td>\n",
       "      <td>40</td>\n",
       "      <td>United-States</td>\n",
       "      <td>&lt;=50K</td>\n",
       "    </tr>\n",
       "    <tr>\n",
       "      <th>4</th>\n",
       "      <td>28</td>\n",
       "      <td>Private</td>\n",
       "      <td>338409</td>\n",
       "      <td>Bachelors</td>\n",
       "      <td>13</td>\n",
       "      <td>Married-civ-spouse</td>\n",
       "      <td>Prof-specialty</td>\n",
       "      <td>Wife</td>\n",
       "      <td>Black</td>\n",
       "      <td>Female</td>\n",
       "      <td>0</td>\n",
       "      <td>0</td>\n",
       "      <td>40</td>\n",
       "      <td>Cuba</td>\n",
       "      <td>&lt;=50K</td>\n",
       "    </tr>\n",
       "  </tbody>\n",
       "</table>\n",
       "</div>"
      ],
      "text/plain": [
       "   age         workclass  final_weight  education  education_num  \\\n",
       "0   39         State-gov         77516  Bachelors             13   \n",
       "1   50  Self-emp-not-inc         83311  Bachelors             13   \n",
       "2   38           Private        215646    HS-grad              9   \n",
       "3   53           Private        234721       11th              7   \n",
       "4   28           Private        338409  Bachelors             13   \n",
       "\n",
       "       marital_status         occupation   relationship   race     sex  \\\n",
       "0       Never-married       Adm-clerical  Not-in-family  White    Male   \n",
       "1  Married-civ-spouse    Exec-managerial        Husband  White    Male   \n",
       "2            Divorced  Handlers-cleaners  Not-in-family  White    Male   \n",
       "3  Married-civ-spouse  Handlers-cleaners        Husband  Black    Male   \n",
       "4  Married-civ-spouse     Prof-specialty           Wife  Black  Female   \n",
       "\n",
       "   capital_gain  capital_loss  hours_per_week native_country salary  \n",
       "0          2174             0              40  United-States  <=50K  \n",
       "1             0             0              13  United-States  <=50K  \n",
       "2             0             0              40  United-States  <=50K  \n",
       "3             0             0              40  United-States  <=50K  \n",
       "4             0             0              40           Cuba  <=50K  "
      ]
     },
     "execution_count": 2,
     "metadata": {},
     "output_type": "execute_result"
    }
   ],
   "source": [
    "adults = pd.read_csv(\"adults.txt\")\n",
    "adults.head()"
   ]
  },
  {
   "cell_type": "markdown",
   "id": "d3d87646",
   "metadata": {},
   "source": [
    "### 算法选择"
   ]
  },
  {
   "cell_type": "code",
   "execution_count": 3,
   "id": "14e439ac",
   "metadata": {
    "ExecuteTime": {
     "end_time": "2023-02-16T06:24:41.867885Z",
     "start_time": "2023-02-16T06:24:41.829102Z"
    }
   },
   "outputs": [],
   "source": [
    "# KNN        准确率高，对异常数据不敏感\n",
    "# Logistics  准确率高，效率高\n",
    "# NB         适合目标和字段间存在因果关系的离散数据"
   ]
  },
  {
   "cell_type": "code",
   "execution_count": 4,
   "id": "d5113bae",
   "metadata": {
    "ExecuteTime": {
     "end_time": "2023-02-16T06:27:03.511762Z",
     "start_time": "2023-02-16T06:27:03.468445Z"
    }
   },
   "outputs": [],
   "source": [
    "from sklearn.neighbors import KNeighborsClassifier\n",
    "from sklearn.linear_model import LogisticRegression\n",
    "from sklearn.naive_bayes import GaussianNB,MultinomialNB"
   ]
  },
  {
   "cell_type": "code",
   "execution_count": 9,
   "id": "bdce1eba",
   "metadata": {
    "ExecuteTime": {
     "end_time": "2023-02-16T06:47:26.678597Z",
     "start_time": "2023-02-16T06:47:26.567075Z"
    }
   },
   "outputs": [
    {
     "data": {
      "text/html": [
       "<div>\n",
       "<style scoped>\n",
       "    .dataframe tbody tr th:only-of-type {\n",
       "        vertical-align: middle;\n",
       "    }\n",
       "\n",
       "    .dataframe tbody tr th {\n",
       "        vertical-align: top;\n",
       "    }\n",
       "\n",
       "    .dataframe thead th {\n",
       "        text-align: right;\n",
       "    }\n",
       "</style>\n",
       "<table border=\"1\" class=\"dataframe\">\n",
       "  <thead>\n",
       "    <tr style=\"text-align: right;\">\n",
       "      <th></th>\n",
       "      <th>age</th>\n",
       "      <th>workclass</th>\n",
       "      <th>final_weight</th>\n",
       "      <th>education</th>\n",
       "      <th>education_num</th>\n",
       "      <th>marital_status</th>\n",
       "      <th>occupation</th>\n",
       "      <th>relationship</th>\n",
       "      <th>race</th>\n",
       "      <th>capital_gain</th>\n",
       "      <th>capital_loss</th>\n",
       "      <th>hours_per_week</th>\n",
       "      <th>native_country</th>\n",
       "      <th>salary</th>\n",
       "    </tr>\n",
       "  </thead>\n",
       "  <tbody>\n",
       "    <tr>\n",
       "      <th>0</th>\n",
       "      <td>39</td>\n",
       "      <td>State-gov</td>\n",
       "      <td>77516</td>\n",
       "      <td>Bachelors</td>\n",
       "      <td>13</td>\n",
       "      <td>Never-married</td>\n",
       "      <td>Adm-clerical</td>\n",
       "      <td>Not-in-family</td>\n",
       "      <td>White</td>\n",
       "      <td>2174</td>\n",
       "      <td>0</td>\n",
       "      <td>40</td>\n",
       "      <td>United-States</td>\n",
       "      <td>&lt;=50K</td>\n",
       "    </tr>\n",
       "    <tr>\n",
       "      <th>1</th>\n",
       "      <td>50</td>\n",
       "      <td>Self-emp-not-inc</td>\n",
       "      <td>83311</td>\n",
       "      <td>Bachelors</td>\n",
       "      <td>13</td>\n",
       "      <td>Married-civ-spouse</td>\n",
       "      <td>Exec-managerial</td>\n",
       "      <td>Husband</td>\n",
       "      <td>White</td>\n",
       "      <td>0</td>\n",
       "      <td>0</td>\n",
       "      <td>13</td>\n",
       "      <td>United-States</td>\n",
       "      <td>&lt;=50K</td>\n",
       "    </tr>\n",
       "  </tbody>\n",
       "</table>\n",
       "</div>"
      ],
      "text/plain": [
       "   age         workclass  final_weight  education  education_num  \\\n",
       "0   39         State-gov         77516  Bachelors             13   \n",
       "1   50  Self-emp-not-inc         83311  Bachelors             13   \n",
       "\n",
       "       marital_status       occupation   relationship   race  capital_gain  \\\n",
       "0       Never-married     Adm-clerical  Not-in-family  White          2174   \n",
       "1  Married-civ-spouse  Exec-managerial        Husband  White             0   \n",
       "\n",
       "   capital_loss  hours_per_week native_country salary  \n",
       "0             0              40  United-States  <=50K  \n",
       "1             0              13  United-States  <=50K  "
      ]
     },
     "execution_count": 9,
     "metadata": {},
     "output_type": "execute_result"
    }
   ],
   "source": [
    "train = adults.drop(\"sex\",axis=1).copy()\n",
    "target = adults.sex.copy()\n",
    "train.head(2)"
   ]
  },
  {
   "cell_type": "markdown",
   "id": "3c8de809",
   "metadata": {},
   "source": [
    "### 数据清洗"
   ]
  },
  {
   "cell_type": "code",
   "execution_count": 7,
   "id": "ddfe1c93",
   "metadata": {
    "ExecuteTime": {
     "end_time": "2023-02-16T06:28:49.874855Z",
     "start_time": "2023-02-16T06:28:49.837318Z"
    }
   },
   "outputs": [
    {
     "data": {
      "text/plain": [
       "array(['State-gov', 'Self-emp-not-inc', 'Private', 'Federal-gov',\n",
       "       'Local-gov', '?', 'Self-emp-inc', 'Without-pay', 'Never-worked'],\n",
       "      dtype=object)"
      ]
     },
     "execution_count": 7,
     "metadata": {},
     "output_type": "execute_result"
    }
   ],
   "source": [
    "# 1.相近的词组合成相同的词\n",
    "# 2.整合后的字段内容是否存在有序关系\n",
    "#     1. 有序 应该强调数据大小\n",
    "#     2. 无序 应该消除数据间的关系（独热编码）\n",
    "train.workclass.unique()"
   ]
  },
  {
   "cell_type": "markdown",
   "id": "cef9f2d0",
   "metadata": {},
   "source": [
    "### 特征选择"
   ]
  },
  {
   "cell_type": "code",
   "execution_count": 11,
   "id": "0add1517",
   "metadata": {
    "ExecuteTime": {
     "end_time": "2023-02-16T06:52:06.292001Z",
     "start_time": "2023-02-16T06:52:06.251656Z"
    },
    "scrolled": true
   },
   "outputs": [
    {
     "data": {
      "text/html": [
       "<div>\n",
       "<style scoped>\n",
       "    .dataframe tbody tr th:only-of-type {\n",
       "        vertical-align: middle;\n",
       "    }\n",
       "\n",
       "    .dataframe tbody tr th {\n",
       "        vertical-align: top;\n",
       "    }\n",
       "\n",
       "    .dataframe thead th {\n",
       "        text-align: right;\n",
       "    }\n",
       "</style>\n",
       "<table border=\"1\" class=\"dataframe\">\n",
       "  <thead>\n",
       "    <tr style=\"text-align: right;\">\n",
       "      <th></th>\n",
       "      <th>race</th>\n",
       "      <th>workclass</th>\n",
       "      <th>hours_per_week</th>\n",
       "    </tr>\n",
       "  </thead>\n",
       "  <tbody>\n",
       "    <tr>\n",
       "      <th>0</th>\n",
       "      <td>White</td>\n",
       "      <td>State-gov</td>\n",
       "      <td>40</td>\n",
       "    </tr>\n",
       "    <tr>\n",
       "      <th>1</th>\n",
       "      <td>White</td>\n",
       "      <td>Self-emp-not-inc</td>\n",
       "      <td>13</td>\n",
       "    </tr>\n",
       "  </tbody>\n",
       "</table>\n",
       "</div>"
      ],
      "text/plain": [
       "    race         workclass  hours_per_week\n",
       "0  White         State-gov              40\n",
       "1  White  Self-emp-not-inc              13"
      ]
     },
     "execution_count": 11,
     "metadata": {},
     "output_type": "execute_result"
    }
   ],
   "source": [
    "X = train[[\"race\",\"workclass\",\"hours_per_week\"]].copy()\n",
    "X.head(2)"
   ]
  },
  {
   "cell_type": "markdown",
   "id": "7a26ce24",
   "metadata": {},
   "source": [
    "### 数值映射"
   ]
  },
  {
   "cell_type": "code",
   "execution_count": 12,
   "id": "535cb151",
   "metadata": {
    "ExecuteTime": {
     "end_time": "2023-02-16T06:52:43.634947Z",
     "start_time": "2023-02-16T06:52:43.541769Z"
    }
   },
   "outputs": [
    {
     "data": {
      "text/plain": [
       "race              object\n",
       "workclass         object\n",
       "hours_per_week     int64\n",
       "dtype: object"
      ]
     },
     "execution_count": 12,
     "metadata": {},
     "output_type": "execute_result"
    }
   ],
   "source": [
    "X.dtypes"
   ]
  },
  {
   "cell_type": "code",
   "execution_count": 14,
   "id": "2dbe055e",
   "metadata": {
    "ExecuteTime": {
     "end_time": "2023-02-16T06:55:03.050303Z",
     "start_time": "2023-02-16T06:55:00.930957Z"
    }
   },
   "outputs": [],
   "source": [
    "unique_arr = X.race.unique()\n",
    "def map_race(x):\n",
    "    index = np.argwhere(x==unique_arr)[0,0]\n",
    "    return index\n",
    "X.race = X.race.map(map_race)"
   ]
  },
  {
   "cell_type": "code",
   "execution_count": 16,
   "id": "ecea9b0b",
   "metadata": {
    "ExecuteTime": {
     "end_time": "2023-02-16T06:56:00.287774Z",
     "start_time": "2023-02-16T06:55:58.382151Z"
    }
   },
   "outputs": [],
   "source": [
    "unique_arr = X.workclass.unique()\n",
    "def map_workclass(x):\n",
    "    index = np.argwhere(x==unique_arr)[0,0]\n",
    "    return index\n",
    "X.workclass = X.workclass.map(map_workclass)"
   ]
  },
  {
   "cell_type": "code",
   "execution_count": 17,
   "id": "eb506f2e",
   "metadata": {
    "ExecuteTime": {
     "end_time": "2023-02-16T06:56:08.402047Z",
     "start_time": "2023-02-16T06:56:08.369027Z"
    }
   },
   "outputs": [
    {
     "data": {
      "text/html": [
       "<div>\n",
       "<style scoped>\n",
       "    .dataframe tbody tr th:only-of-type {\n",
       "        vertical-align: middle;\n",
       "    }\n",
       "\n",
       "    .dataframe tbody tr th {\n",
       "        vertical-align: top;\n",
       "    }\n",
       "\n",
       "    .dataframe thead th {\n",
       "        text-align: right;\n",
       "    }\n",
       "</style>\n",
       "<table border=\"1\" class=\"dataframe\">\n",
       "  <thead>\n",
       "    <tr style=\"text-align: right;\">\n",
       "      <th></th>\n",
       "      <th>race</th>\n",
       "      <th>workclass</th>\n",
       "      <th>hours_per_week</th>\n",
       "    </tr>\n",
       "  </thead>\n",
       "  <tbody>\n",
       "    <tr>\n",
       "      <th>0</th>\n",
       "      <td>0</td>\n",
       "      <td>0</td>\n",
       "      <td>40</td>\n",
       "    </tr>\n",
       "    <tr>\n",
       "      <th>1</th>\n",
       "      <td>0</td>\n",
       "      <td>1</td>\n",
       "      <td>13</td>\n",
       "    </tr>\n",
       "    <tr>\n",
       "      <th>2</th>\n",
       "      <td>0</td>\n",
       "      <td>2</td>\n",
       "      <td>40</td>\n",
       "    </tr>\n",
       "    <tr>\n",
       "      <th>3</th>\n",
       "      <td>1</td>\n",
       "      <td>2</td>\n",
       "      <td>40</td>\n",
       "    </tr>\n",
       "    <tr>\n",
       "      <th>4</th>\n",
       "      <td>1</td>\n",
       "      <td>2</td>\n",
       "      <td>40</td>\n",
       "    </tr>\n",
       "  </tbody>\n",
       "</table>\n",
       "</div>"
      ],
      "text/plain": [
       "   race  workclass  hours_per_week\n",
       "0     0          0              40\n",
       "1     0          1              13\n",
       "2     0          2              40\n",
       "3     1          2              40\n",
       "4     1          2              40"
      ]
     },
     "execution_count": 17,
     "metadata": {},
     "output_type": "execute_result"
    }
   ],
   "source": [
    "X.head()"
   ]
  },
  {
   "cell_type": "code",
   "execution_count": 19,
   "id": "ded3153d",
   "metadata": {
    "ExecuteTime": {
     "end_time": "2023-02-16T06:57:00.126521Z",
     "start_time": "2023-02-16T06:57:00.084320Z"
    }
   },
   "outputs": [
    {
     "data": {
      "text/plain": [
       "0    0\n",
       "1    0\n",
       "2    0\n",
       "3    0\n",
       "4    1\n",
       "Name: sex, dtype: int64"
      ]
     },
     "execution_count": 19,
     "metadata": {},
     "output_type": "execute_result"
    }
   ],
   "source": [
    "y = target.map({\"Male\":0,\"Female\":1}).copy()\n",
    "y.head()"
   ]
  },
  {
   "cell_type": "markdown",
   "id": "99109e71",
   "metadata": {},
   "source": [
    "### 查看数据分布"
   ]
  },
  {
   "cell_type": "code",
   "execution_count": 21,
   "id": "eca2334c",
   "metadata": {
    "ExecuteTime": {
     "end_time": "2023-02-16T06:57:48.238875Z",
     "start_time": "2023-02-16T06:57:46.450739Z"
    },
    "scrolled": false
   },
   "outputs": [
    {
     "name": "stderr",
     "output_type": "stream",
     "text": [
      "/Users/lianke/opt/anaconda3/lib/python3.9/site-packages/seaborn/_decorators.py:36: FutureWarning: Pass the following variable as a keyword arg: x. From version 0.12, the only valid positional argument will be `data`, and passing other arguments without an explicit keyword will result in an error or misinterpretation.\n",
      "  warnings.warn(\n"
     ]
    },
    {
     "data": {
      "text/plain": [
       "<AxesSubplot:xlabel='sex', ylabel='count'>"
      ]
     },
     "execution_count": 21,
     "metadata": {},
     "output_type": "execute_result"
    },
    {
     "data": {
      "image/png": "[encoded data removed]",
      "text/plain": [
       "<Figure size 640x480 with 1 Axes>"
      ]
     },
     "metadata": {},
     "output_type": "display_data"
    }
   ],
   "source": [
    "# 过采样（）\n",
    "# 欠采样（在样本数量多的中随机选择一部分）\n",
    "sns.countplot(y)"
   ]
  },
  {
   "cell_type": "code",
   "execution_count": 22,
   "id": "f55b7c10",
   "metadata": {
    "ExecuteTime": {
     "end_time": "2023-02-16T07:02:01.335582Z",
     "start_time": "2023-02-16T07:02:01.266859Z"
    }
   },
   "outputs": [
    {
     "data": {
      "text/plain": [
       "Male      21790\n",
       "Female    10771\n",
       "Name: sex, dtype: int64"
      ]
     },
     "execution_count": 22,
     "metadata": {},
     "output_type": "execute_result"
    }
   ],
   "source": [
    "target.value_counts()"
   ]
  },
  {
   "cell_type": "markdown",
   "id": "43586491",
   "metadata": {},
   "source": [
    "### 欠采样处理，解决样本均衡"
   ]
  },
  {
   "cell_type": "code",
   "execution_count": 28,
   "id": "4adb07f2",
   "metadata": {
    "ExecuteTime": {
     "end_time": "2023-02-16T07:07:38.028038Z",
     "start_time": "2023-02-16T07:07:37.911522Z"
    }
   },
   "outputs": [],
   "source": [
    "random_index = np.random.permutation(21790)[:10771]\n",
    "Male_y = target[target==\"Male\"].iloc[random_index]\n",
    "Male_X = X[target==\"Male\"].iloc[random_index]\n",
    "\n",
    "Female_y = target[target==\"Female\"]\n",
    "Female_X = X[target==\"Female\"]\n",
    "\n",
    "GX = pd.concat((Male_X,Female_X))\n",
    "Gy = pd.concat((Male_y,Female_y))"
   ]
  },
  {
   "cell_type": "code",
   "execution_count": 31,
   "id": "12c6fbab",
   "metadata": {
    "ExecuteTime": {
     "end_time": "2023-02-16T07:08:00.872872Z",
     "start_time": "2023-02-16T07:08:00.832103Z"
    },
    "scrolled": true
   },
   "outputs": [
    {
     "data": {
      "text/plain": [
       "7762       Male\n",
       "11306      Male\n",
       "18103      Male\n",
       "592        Male\n",
       "8816       Male\n",
       "          ...  \n",
       "32546    Female\n",
       "32549    Female\n",
       "32556    Female\n",
       "32558    Female\n",
       "32560    Female\n",
       "Name: sex, Length: 21542, dtype: object"
      ]
     },
     "execution_count": 31,
     "metadata": {},
     "output_type": "execute_result"
    }
   ],
   "source": [
    "Gy"
   ]
  },
  {
   "cell_type": "markdown",
   "id": "dab8c3ab",
   "metadata": {},
   "source": [
    "### 创建base model"
   ]
  },
  {
   "cell_type": "code",
   "execution_count": 36,
   "id": "7922e76f",
   "metadata": {
    "ExecuteTime": {
     "end_time": "2023-02-16T07:17:41.546430Z",
     "start_time": "2023-02-16T07:17:41.535442Z"
    }
   },
   "outputs": [],
   "source": [
    "base_knn = KNeighborsClassifier(weights=\"distance\")\n",
    "base_lr = LogisticRegression()\n",
    "base_gnb = GaussianNB()\n",
    "base_mnb = MultinomialNB()"
   ]
  },
  {
   "cell_type": "code",
   "execution_count": 38,
   "id": "8b6a07ad",
   "metadata": {
    "ExecuteTime": {
     "end_time": "2023-02-16T07:18:33.245610Z",
     "start_time": "2023-02-16T07:18:29.763482Z"
    },
    "scrolled": true
   },
   "outputs": [
    {
     "name": "stdout",
     "output_type": "stream",
     "text": [
      "knn_score:0.5263673598582456\n",
      "lr_score:0.6214832820593186\n",
      "gnb_score:0.6112707150316844\n",
      "mnb_score:0.5724630805759086\n"
     ]
    }
   ],
   "source": [
    "knn_score = cross_val_score(base_knn,GX,Gy,cv=3).mean()\n",
    "lr_score = cross_val_score(base_lr,GX,Gy,cv=3).mean()\n",
    "gnb_score = cross_val_score(base_gnb,GX,Gy,cv=3).mean()\n",
    "mnb_score = cross_val_score(base_mnb,GX,Gy,cv=3).mean()\n",
    "\n",
    "print(f\"knn_score:{knn_score}\\nlr_score:{lr_score}\\ngnb_score:{gnb_score}\\nmnb_score:{mnb_score}\")"
   ]
  },
  {
   "cell_type": "markdown",
   "id": "b564685a",
   "metadata": {},
   "source": [
    "### 调参"
   ]
  },
  {
   "cell_type": "code",
   "execution_count": 53,
   "id": "f9aa3730",
   "metadata": {
    "ExecuteTime": {
     "end_time": "2023-02-16T07:30:57.363904Z",
     "start_time": "2023-02-16T07:30:57.350308Z"
    }
   },
   "outputs": [],
   "source": [
    "from sklearn.model_selection import GridSearchCV"
   ]
  },
  {
   "cell_type": "markdown",
   "id": "a15d48b4",
   "metadata": {},
   "source": [
    "#### KNN 调参"
   ]
  },
  {
   "cell_type": "code",
   "execution_count": 50,
   "id": "de8a81cd",
   "metadata": {
    "ExecuteTime": {
     "end_time": "2023-02-16T07:29:11.215033Z",
     "start_time": "2023-02-16T07:28:09.636816Z"
    }
   },
   "outputs": [
    {
     "data": {
      "text/plain": [
       "GridSearchCV(cv=3, estimator=KNeighborsClassifier(),\n",
       "             param_grid={'n_neighbors': array([  3,  11,  19,  27,  35,  43,  51,  59,  67,  75,  83,  91,  99,\n",
       "       107, 115, 123, 131]),\n",
       "                         'weights': ['distance']})"
      ]
     },
     "execution_count": 50,
     "metadata": {},
     "output_type": "execute_result"
    }
   ],
   "source": [
    "knn = KNeighborsClassifier()\n",
    "k_list = np.arange(3,np.sqrt(GX.shape[0]*0.8),step=8,dtype=\"int64\")\n",
    "param_grid = {\n",
    "    \"n_neighbors\":k_list,\n",
    "    \"weights\":[\"distance\"]\n",
    "}\n",
    "gscv = GridSearchCV(estimator=knn,param_grid=param_grid,cv=3)\n",
    "gscv.fit(GX,Gy)"
   ]
  },
  {
   "cell_type": "code",
   "execution_count": 51,
   "id": "2e6ab2ac",
   "metadata": {
    "ExecuteTime": {
     "end_time": "2023-02-16T07:29:38.897563Z",
     "start_time": "2023-02-16T07:29:38.867729Z"
    }
   },
   "outputs": [
    {
     "data": {
      "text/plain": [
       "{'n_neighbors': 131, 'weights': 'distance'}"
      ]
     },
     "execution_count": 51,
     "metadata": {},
     "output_type": "execute_result"
    }
   ],
   "source": [
    "gscv.best_params_"
   ]
  },
  {
   "cell_type": "code",
   "execution_count": 52,
   "id": "b6223b39",
   "metadata": {
    "ExecuteTime": {
     "end_time": "2023-02-16T07:30:23.924002Z",
     "start_time": "2023-02-16T07:30:17.977379Z"
    }
   },
   "outputs": [
    {
     "data": {
      "text/plain": [
       "0.5861572314333566"
      ]
     },
     "execution_count": 52,
     "metadata": {},
     "output_type": "execute_result"
    }
   ],
   "source": [
    "cross_val_score(gscv.best_estimator_,GX,Gy,cv=3).mean()"
   ]
  },
  {
   "cell_type": "markdown",
   "id": "e594fc61",
   "metadata": {},
   "source": [
    "#### Logistic 调参"
   ]
  },
  {
   "cell_type": "code",
   "execution_count": 57,
   "id": "53436ad2",
   "metadata": {
    "ExecuteTime": {
     "end_time": "2023-02-16T07:34:28.460544Z",
     "start_time": "2023-02-16T07:34:22.001506Z"
    }
   },
   "outputs": [
    {
     "name": "stderr",
     "output_type": "stream",
     "text": [
      "/Users/lianke/opt/anaconda3/lib/python3.9/site-packages/sklearn/model_selection/_validation.py:372: FitFailedWarning: \n",
      "15 fits failed out of a total of 30.\n",
      "The score on these train-test partitions for these parameters will be set to nan.\n",
      "If these failures are not expected, you can try to debug them by setting error_score='raise'.\n",
      "\n",
      "Below are more details about the failures:\n",
      "--------------------------------------------------------------------------------\n",
      "15 fits failed with the following error:\n",
      "Traceback (most recent call last):\n",
      "  File \"/Users/lianke/opt/anaconda3/lib/python3.9/site-packages/sklearn/model_selection/_validation.py\", line 680, in _fit_and_score\n",
      "    estimator.fit(X_train, y_train, **fit_params)\n",
      "  File \"/Users/lianke/opt/anaconda3/lib/python3.9/site-packages/sklearn/linear_model/_logistic.py\", line 1461, in fit\n",
      "    solver = _check_solver(self.solver, self.penalty, self.dual)\n",
      "  File \"/Users/lianke/opt/anaconda3/lib/python3.9/site-packages/sklearn/linear_model/_logistic.py\", line 447, in _check_solver\n",
      "    raise ValueError(\n",
      "ValueError: Solver lbfgs supports only 'l2' or 'none' penalties, got l1 penalty.\n",
      "\n",
      "  warnings.warn(some_fits_failed_message, FitFailedWarning)\n",
      "/Users/lianke/opt/anaconda3/lib/python3.9/site-packages/sklearn/model_selection/_search.py:969: UserWarning: One or more of the test scores are non-finite: [       nan 0.62306142        nan 0.6234793         nan 0.62148328\n",
      "        nan 0.62148328        nan 0.62148328]\n",
      "  warnings.warn(\n"
     ]
    },
    {
     "data": {
      "text/plain": [
       "GridSearchCV(cv=3, estimator=LogisticRegression(),\n",
       "             param_grid={'C': [0.001, 0.01, 0.1, 1, 10],\n",
       "                         'penalty': ['l1', 'l2']})"
      ]
     },
     "execution_count": 57,
     "metadata": {},
     "output_type": "execute_result"
    }
   ],
   "source": [
    "lr = LogisticRegression()\n",
    "param_grid = {\n",
    "    \"penalty\":[\"l1\",\"l2\"],\n",
    "    \"C\":[0.001,0.01,0.1,1,10]\n",
    "}\n",
    "gscv = GridSearchCV(estimator=lr,param_grid=param_grid,cv=3)\n",
    "gscv.fit(GX,Gy)"
   ]
  },
  {
   "cell_type": "code",
   "execution_count": 58,
   "id": "6cc1e0c2",
   "metadata": {
    "ExecuteTime": {
     "end_time": "2023-02-16T07:34:28.598566Z",
     "start_time": "2023-02-16T07:34:28.509200Z"
    }
   },
   "outputs": [
    {
     "data": {
      "text/plain": [
       "{'C': 0.01, 'penalty': 'l2'}"
      ]
     },
     "execution_count": 58,
     "metadata": {},
     "output_type": "execute_result"
    }
   ],
   "source": [
    "gscv.best_params_"
   ]
  },
  {
   "cell_type": "code",
   "execution_count": null,
   "id": "35991be0",
   "metadata": {},
   "outputs": [],
   "source": [
    "c"
   ]
  }
 ],
 "metadata": {
  "kernelspec": {
   "display_name": "Python 3 (ipykernel)",
   "language": "python",
   "name": "python3"
  },
  "language_info": {
   "codemirror_mode": {
    "name": "ipython",
    "version": 3
   },
   "file_extension": ".py",
   "mimetype": "text/x-python",
   "name": "python",
   "nbconvert_exporter": "python",
   "pygments_lexer": "ipython3",
   "version": "3.9.13"
  },
  "toc": {
   "base_numbering": 1,
   "nav_menu": {},
   "number_sections": true,
   "sideBar": true,
   "skip_h1_title": false,
   "title_cell": "Table of Contents",
   "title_sidebar": "Contents",
   "toc_cell": false,
   "toc_position": {},
   "toc_section_display": true,
   "toc_window_display": false
  }
 },
 "nbformat": 4,
 "nbformat_minor": 5
}
