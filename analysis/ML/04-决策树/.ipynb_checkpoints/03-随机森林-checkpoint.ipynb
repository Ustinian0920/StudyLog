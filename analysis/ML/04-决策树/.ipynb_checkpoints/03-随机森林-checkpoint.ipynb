{
 "cells": [
  {
   "cell_type": "code",
   "execution_count": 13,
   "id": "26ca3b87",
   "metadata": {
    "ExecuteTime": {
     "end_time": "2023-02-17T06:30:56.702835Z",
     "start_time": "2023-02-17T06:30:56.667595Z"
    }
   },
   "outputs": [],
   "source": [
    "import pandas as pd\n",
    "import numpy as np\n",
    "import seaborn as sns\n",
    "import matplotlib.pyplot as plt\n",
    "import math\n",
    "%matplotlib inline\n",
    "from sklearn.model_selection import train_test_split,cross_val_score\n",
    "from matplotlib.colors import ListedColormap\n",
    "sns.set()\n",
    "colors = sns.color_palette(\"husl\")"
   ]
  },
  {
   "cell_type": "code",
   "execution_count": 14,
   "id": "276ad45c",
   "metadata": {
    "ExecuteTime": {
     "end_time": "2023-02-17T06:30:56.978039Z",
     "start_time": "2023-02-17T06:30:56.966893Z"
    }
   },
   "outputs": [],
   "source": [
    "from sklearn.datasets import load_iris"
   ]
  },
  {
   "cell_type": "code",
   "execution_count": 15,
   "id": "9d476fec",
   "metadata": {
    "ExecuteTime": {
     "end_time": "2023-02-17T06:30:57.152414Z",
     "start_time": "2023-02-17T06:30:57.125334Z"
    }
   },
   "outputs": [],
   "source": [
    "train,target = load_iris(return_X_y=True)"
   ]
  },
  {
   "cell_type": "code",
   "execution_count": 16,
   "id": "9d13e913",
   "metadata": {
    "ExecuteTime": {
     "end_time": "2023-02-17T06:30:57.351444Z",
     "start_time": "2023-02-17T06:30:57.329661Z"
    }
   },
   "outputs": [],
   "source": [
    "train = train[:,:2]"
   ]
  },
  {
   "cell_type": "code",
   "execution_count": 17,
   "id": "b1d94c86",
   "metadata": {
    "ExecuteTime": {
     "end_time": "2023-02-17T06:30:57.517339Z",
     "start_time": "2023-02-17T06:30:57.502718Z"
    }
   },
   "outputs": [],
   "source": [
    "from sklearn.tree import DecisionTreeClassifier\n",
    "from sklearn.model_selection import cross_val_score"
   ]
  },
  {
   "cell_type": "markdown",
   "id": "5ca37855",
   "metadata": {},
   "source": [
    "## 决策树"
   ]
  },
  {
   "cell_type": "code",
   "execution_count": 33,
   "id": "cf0066a3",
   "metadata": {
    "ExecuteTime": {
     "end_time": "2023-02-17T06:31:28.060271Z",
     "start_time": "2023-02-17T06:31:28.010193Z"
    }
   },
   "outputs": [
    {
     "data": {
      "text/plain": [
       "0.7133333333333332"
      ]
     },
     "execution_count": 33,
     "metadata": {},
     "output_type": "execute_result"
    }
   ],
   "source": [
    "dt = DecisionTreeClassifier()\n",
    "cross_val_score(dt,train,target,cv=5).mean()"
   ]
  },
  {
   "cell_type": "code",
   "execution_count": 19,
   "id": "330823f6",
   "metadata": {
    "ExecuteTime": {
     "end_time": "2023-02-17T06:30:58.015169Z",
     "start_time": "2023-02-17T06:30:58.001423Z"
    }
   },
   "outputs": [],
   "source": [
    "from sklearn.ensemble import RandomForestClassifier"
   ]
  },
  {
   "cell_type": "markdown",
   "id": "db6ee852",
   "metadata": {},
   "source": [
    "## 随即森林"
   ]
  },
  {
   "cell_type": "code",
   "execution_count": 35,
   "id": "39d15300",
   "metadata": {
    "ExecuteTime": {
     "end_time": "2023-02-17T06:33:22.093333Z",
     "start_time": "2023-02-17T06:33:20.864027Z"
    }
   },
   "outputs": [
    {
     "data": {
      "text/plain": [
       "0.7133333333333333"
      ]
     },
     "execution_count": 35,
     "metadata": {},
     "output_type": "execute_result"
    }
   ],
   "source": [
    "# n_estimators=10 树的个数\n",
    "rfc = RandomForestClassifier(n_estimators=10)\n",
    "cross_val_score(rfc,train,target,cv=5).mean()"
   ]
  },
  {
   "cell_type": "code",
   "execution_count": 39,
   "id": "05137245",
   "metadata": {
    "ExecuteTime": {
     "end_time": "2023-02-17T06:33:54.489087Z",
     "start_time": "2023-02-17T06:33:54.307728Z"
    }
   },
   "outputs": [
    {
     "data": {
      "text/plain": [
       "[DecisionTreeClassifier(max_features='auto', random_state=629387085),\n",
       " DecisionTreeClassifier(max_features='auto', random_state=587217302),\n",
       " DecisionTreeClassifier(max_features='auto', random_state=1535446549),\n",
       " DecisionTreeClassifier(max_features='auto', random_state=308160568),\n",
       " DecisionTreeClassifier(max_features='auto', random_state=1295713707),\n",
       " DecisionTreeClassifier(max_features='auto', random_state=2048040258),\n",
       " DecisionTreeClassifier(max_features='auto', random_state=247111584),\n",
       " DecisionTreeClassifier(max_features='auto', random_state=935915670),\n",
       " DecisionTreeClassifier(max_features='auto', random_state=663652175),\n",
       " DecisionTreeClassifier(max_features='auto', random_state=1199763020)]"
      ]
     },
     "execution_count": 39,
     "metadata": {},
     "output_type": "execute_result"
    }
   ],
   "source": [
    "# 随机森林就是多个决策树\n",
    "rfc.fit(train,target)\n",
    "rfc.estimators_"
   ]
  },
  {
   "cell_type": "code",
   "execution_count": null,
   "id": "aabead7c",
   "metadata": {},
   "outputs": [],
   "source": []
  }
 ],
 "metadata": {
  "kernelspec": {
   "display_name": "Python 3 (ipykernel)",
   "language": "python",
   "name": "python3"
  },
  "language_info": {
   "codemirror_mode": {
    "name": "ipython",
    "version": 3
   },
   "file_extension": ".py",
   "mimetype": "text/x-python",
   "name": "python",
   "nbconvert_exporter": "python",
   "pygments_lexer": "ipython3",
   "version": "3.9.13"
  },
  "toc": {
   "base_numbering": 1,
   "nav_menu": {},
   "number_sections": true,
   "sideBar": true,
   "skip_h1_title": false,
   "title_cell": "Table of Contents",
   "title_sidebar": "Contents",
   "toc_cell": false,
   "toc_position": {},
   "toc_section_display": true,
   "toc_window_display": false
  }
 },
 "nbformat": 4,
 "nbformat_minor": 5
}
