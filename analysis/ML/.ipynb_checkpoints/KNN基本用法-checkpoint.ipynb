{
 "cells": [
  {
   "cell_type": "code",
   "execution_count": 44,
   "id": "d2061379",
   "metadata": {
    "ExecuteTime": {
     "end_time": "2023-02-13T01:48:11.371076Z",
     "start_time": "2023-02-13T01:48:11.348317Z"
    }
   },
   "outputs": [],
   "source": [
    "from sklearn.neighbors import KNeighborsClassifier\n",
    "import pandas as pd\n",
    "import matplotlib.pyplot as plt\n",
    "import numpy as np"
   ]
  },
  {
   "cell_type": "markdown",
   "id": "d938e37f",
   "metadata": {},
   "source": [
    "## KNN基本使用"
   ]
  },
  {
   "cell_type": "code",
   "execution_count": 16,
   "id": "db24b21f",
   "metadata": {
    "ExecuteTime": {
     "end_time": "2023-02-13T01:27:53.892225Z",
     "start_time": "2023-02-13T01:27:53.817346Z"
    }
   },
   "outputs": [
    {
     "data": {
      "text/html": [
       "<div>\n",
       "<style scoped>\n",
       "    .dataframe tbody tr th:only-of-type {\n",
       "        vertical-align: middle;\n",
       "    }\n",
       "\n",
       "    .dataframe tbody tr th {\n",
       "        vertical-align: top;\n",
       "    }\n",
       "\n",
       "    .dataframe thead th {\n",
       "        text-align: right;\n",
       "    }\n",
       "</style>\n",
       "<table border=\"1\" class=\"dataframe\">\n",
       "  <thead>\n",
       "    <tr style=\"text-align: right;\">\n",
       "      <th></th>\n",
       "      <th>fight</th>\n",
       "      <th>kiss</th>\n",
       "      <th>class</th>\n",
       "    </tr>\n",
       "  </thead>\n",
       "  <tbody>\n",
       "    <tr>\n",
       "      <th>0</th>\n",
       "      <td>10</td>\n",
       "      <td>1</td>\n",
       "      <td>0</td>\n",
       "    </tr>\n",
       "    <tr>\n",
       "      <th>1</th>\n",
       "      <td>9</td>\n",
       "      <td>3</td>\n",
       "      <td>0</td>\n",
       "    </tr>\n",
       "    <tr>\n",
       "      <th>2</th>\n",
       "      <td>10</td>\n",
       "      <td>3</td>\n",
       "      <td>0</td>\n",
       "    </tr>\n",
       "    <tr>\n",
       "      <th>3</th>\n",
       "      <td>12</td>\n",
       "      <td>4</td>\n",
       "      <td>0</td>\n",
       "    </tr>\n",
       "    <tr>\n",
       "      <th>4</th>\n",
       "      <td>14</td>\n",
       "      <td>3</td>\n",
       "      <td>0</td>\n",
       "    </tr>\n",
       "    <tr>\n",
       "      <th>5</th>\n",
       "      <td>3</td>\n",
       "      <td>12</td>\n",
       "      <td>1</td>\n",
       "    </tr>\n",
       "    <tr>\n",
       "      <th>6</th>\n",
       "      <td>4</td>\n",
       "      <td>15</td>\n",
       "      <td>1</td>\n",
       "    </tr>\n",
       "    <tr>\n",
       "      <th>7</th>\n",
       "      <td>2</td>\n",
       "      <td>9</td>\n",
       "      <td>1</td>\n",
       "    </tr>\n",
       "    <tr>\n",
       "      <th>8</th>\n",
       "      <td>3</td>\n",
       "      <td>10</td>\n",
       "      <td>1</td>\n",
       "    </tr>\n",
       "    <tr>\n",
       "      <th>9</th>\n",
       "      <td>4</td>\n",
       "      <td>13</td>\n",
       "      <td>1</td>\n",
       "    </tr>\n",
       "  </tbody>\n",
       "</table>\n",
       "</div>"
      ],
      "text/plain": [
       "   fight  kiss  class\n",
       "0     10     1      0\n",
       "1      9     3      0\n",
       "2     10     3      0\n",
       "3     12     4      0\n",
       "4     14     3      0\n",
       "5      3    12      1\n",
       "6      4    15      1\n",
       "7      2     9      1\n",
       "8      3    10      1\n",
       "9      4    13      1"
      ]
     },
     "execution_count": 16,
     "metadata": {},
     "output_type": "execute_result"
    }
   ],
   "source": [
    "x_list = [\n",
    "    [10,1,0],\n",
    "    [9,3,0],\n",
    "    [10,3,0],\n",
    "    [12,4,0],\n",
    "    [14,3,0],\n",
    "    [3,12,1],\n",
    "    [4,15,1],\n",
    "    [2,9,1],\n",
    "    [3,10,1],\n",
    "    [4,13,1]\n",
    "]\n",
    "df = pd.DataFrame(x_list)\n",
    "df.columns = [\"fight\",\"kiss\",\"class\"]\n",
    "df"
   ]
  },
  {
   "cell_type": "code",
   "execution_count": 31,
   "id": "1d00eda4",
   "metadata": {
    "ExecuteTime": {
     "end_time": "2023-02-13T01:39:12.432737Z",
     "start_time": "2023-02-13T01:39:11.195022Z"
    },
    "collapsed": true
   },
   "outputs": [
    {
     "data": {
      "text/plain": [
       "Text(0, 0.5, 'kiss')"
      ]
     },
     "execution_count": 31,
     "metadata": {},
     "output_type": "execute_result"
    },
    {
     "data": {
      "image/png": "[encoded data removed]",
      "text/plain": [
       "<Figure size 640x480 with 1 Axes>"
      ]
     },
     "metadata": {},
     "output_type": "display_data"
    }
   ],
   "source": [
    "action = df.loc[df['class']==1]\n",
    "love = df.loc[df['class']==0]\n",
    "\n",
    "plt.scatter(action[\"fight\"],action[\"kiss\"],label=\"action\")\n",
    "plt.scatter(love[\"fight\"],love[\"kiss\"],label=\"love\")\n",
    "plt.legend()\n",
    "plt.xlabel(\"fight\")\n",
    "plt.ylabel(\"kiss\")"
   ]
  },
  {
   "cell_type": "markdown",
   "id": "0dba3af1",
   "metadata": {},
   "source": [
    "### 训练样本准备"
   ]
  },
  {
   "cell_type": "code",
   "execution_count": 19,
   "id": "65b1fd07",
   "metadata": {
    "ExecuteTime": {
     "end_time": "2023-02-13T01:28:14.165133Z",
     "start_time": "2023-02-13T01:28:14.070895Z"
    }
   },
   "outputs": [
    {
     "data": {
      "text/html": [
       "<div>\n",
       "<style scoped>\n",
       "    .dataframe tbody tr th:only-of-type {\n",
       "        vertical-align: middle;\n",
       "    }\n",
       "\n",
       "    .dataframe tbody tr th {\n",
       "        vertical-align: top;\n",
       "    }\n",
       "\n",
       "    .dataframe thead th {\n",
       "        text-align: right;\n",
       "    }\n",
       "</style>\n",
       "<table border=\"1\" class=\"dataframe\">\n",
       "  <thead>\n",
       "    <tr style=\"text-align: right;\">\n",
       "      <th></th>\n",
       "      <th>fight</th>\n",
       "      <th>kiss</th>\n",
       "    </tr>\n",
       "  </thead>\n",
       "  <tbody>\n",
       "    <tr>\n",
       "      <th>0</th>\n",
       "      <td>10</td>\n",
       "      <td>1</td>\n",
       "    </tr>\n",
       "    <tr>\n",
       "      <th>1</th>\n",
       "      <td>9</td>\n",
       "      <td>3</td>\n",
       "    </tr>\n",
       "    <tr>\n",
       "      <th>2</th>\n",
       "      <td>10</td>\n",
       "      <td>3</td>\n",
       "    </tr>\n",
       "    <tr>\n",
       "      <th>3</th>\n",
       "      <td>12</td>\n",
       "      <td>4</td>\n",
       "    </tr>\n",
       "    <tr>\n",
       "      <th>4</th>\n",
       "      <td>14</td>\n",
       "      <td>3</td>\n",
       "    </tr>\n",
       "    <tr>\n",
       "      <th>5</th>\n",
       "      <td>3</td>\n",
       "      <td>12</td>\n",
       "    </tr>\n",
       "    <tr>\n",
       "      <th>6</th>\n",
       "      <td>4</td>\n",
       "      <td>15</td>\n",
       "    </tr>\n",
       "    <tr>\n",
       "      <th>7</th>\n",
       "      <td>2</td>\n",
       "      <td>9</td>\n",
       "    </tr>\n",
       "    <tr>\n",
       "      <th>8</th>\n",
       "      <td>3</td>\n",
       "      <td>10</td>\n",
       "    </tr>\n",
       "    <tr>\n",
       "      <th>9</th>\n",
       "      <td>4</td>\n",
       "      <td>13</td>\n",
       "    </tr>\n",
       "  </tbody>\n",
       "</table>\n",
       "</div>"
      ],
      "text/plain": [
       "   fight  kiss\n",
       "0     10     1\n",
       "1      9     3\n",
       "2     10     3\n",
       "3     12     4\n",
       "4     14     3\n",
       "5      3    12\n",
       "6      4    15\n",
       "7      2     9\n",
       "8      3    10\n",
       "9      4    13"
      ]
     },
     "execution_count": 19,
     "metadata": {},
     "output_type": "execute_result"
    }
   ],
   "source": [
    "X = df[[\"fight\",\"kiss\"]]\n",
    "X"
   ]
  },
  {
   "cell_type": "code",
   "execution_count": 21,
   "id": "f6aac20e",
   "metadata": {
    "ExecuteTime": {
     "end_time": "2023-02-13T01:28:26.861472Z",
     "start_time": "2023-02-13T01:28:26.832923Z"
    }
   },
   "outputs": [
    {
     "data": {
      "text/plain": [
       "0    0\n",
       "1    0\n",
       "2    0\n",
       "3    0\n",
       "4    0\n",
       "5    1\n",
       "6    1\n",
       "7    1\n",
       "8    1\n",
       "9    1\n",
       "Name: class, dtype: int64"
      ]
     },
     "execution_count": 21,
     "metadata": {},
     "output_type": "execute_result"
    }
   ],
   "source": [
    "y = df[\"class\"]\n",
    "y"
   ]
  },
  {
   "cell_type": "markdown",
   "id": "d87e9899",
   "metadata": {},
   "source": [
    "### 模型定义"
   ]
  },
  {
   "cell_type": "code",
   "execution_count": 50,
   "id": "ac02722c",
   "metadata": {
    "ExecuteTime": {
     "end_time": "2023-02-13T02:44:24.790004Z",
     "start_time": "2023-02-13T02:44:24.766495Z"
    }
   },
   "outputs": [],
   "source": [
    "# n_neighbors临近点的个数，一般为奇数，不能超过样本集数据个数的平方根\n",
    "knn = KNeighborsClassifier(n_neighbors=3,weights='distance' )"
   ]
  },
  {
   "cell_type": "markdown",
   "id": "de3b45c7",
   "metadata": {},
   "source": [
    "### 模型训练"
   ]
  },
  {
   "cell_type": "code",
   "execution_count": 51,
   "id": "00ca0b73",
   "metadata": {
    "ExecuteTime": {
     "end_time": "2023-02-13T02:44:27.522828Z",
     "start_time": "2023-02-13T02:44:27.473040Z"
    }
   },
   "outputs": [
    {
     "data": {
      "text/plain": [
       "KNeighborsClassifier(n_neighbors=3, weights='distance')"
      ]
     },
     "execution_count": 51,
     "metadata": {},
     "output_type": "execute_result"
    }
   ],
   "source": [
    "knn.fit(X.values,y)"
   ]
  },
  {
   "cell_type": "markdown",
   "id": "66a7cde3",
   "metadata": {},
   "source": [
    "### 样本预测"
   ]
  },
  {
   "cell_type": "code",
   "execution_count": 48,
   "id": "ea926211",
   "metadata": {
    "ExecuteTime": {
     "end_time": "2023-02-13T01:53:01.100584Z",
     "start_time": "2023-02-13T01:53:01.081006Z"
    }
   },
   "outputs": [],
   "source": [
    "film = np.array([\n",
    "    [10,2],\n",
    "    [3,12],\n",
    "    [10,3],\n",
    "    [6,6]\n",
    "])"
   ]
  },
  {
   "cell_type": "code",
   "execution_count": 43,
   "id": "8bcf45a5",
   "metadata": {
    "ExecuteTime": {
     "end_time": "2023-02-13T01:47:20.536166Z",
     "start_time": "2023-02-13T01:47:20.512197Z"
    }
   },
   "outputs": [
    {
     "data": {
      "text/plain": [
       "array([0, 1, 0])"
      ]
     },
     "execution_count": 43,
     "metadata": {},
     "output_type": "execute_result"
    }
   ],
   "source": [
    "knn.predict(film)"
   ]
  },
  {
   "cell_type": "code",
   "execution_count": 52,
   "id": "441f4383",
   "metadata": {
    "ExecuteTime": {
     "end_time": "2023-02-13T02:44:34.982255Z",
     "start_time": "2023-02-13T02:44:33.076468Z"
    }
   },
   "outputs": [
    {
     "data": {
      "text/plain": [
       "<matplotlib.collections.PathCollection at 0x7f942f2d29d0>"
      ]
     },
     "execution_count": 52,
     "metadata": {},
     "output_type": "execute_result"
    },
    {
     "data": {
      "image/png": "[encoded data removed]",
      "text/plain": [
       "<Figure size 640x480 with 1 Axes>"
      ]
     },
     "metadata": {},
     "output_type": "display_data"
    }
   ],
   "source": [
    "action = df.loc[df['class']==1]\n",
    "love = df.loc[df['class']==0]\n",
    "\n",
    "plt.scatter(action[\"fight\"],action[\"kiss\"],label=\"action\")\n",
    "plt.scatter(love[\"fight\"],love[\"kiss\"],label=\"love\")\n",
    "plt.legend()\n",
    "plt.xlabel(\"fight\")\n",
    "plt.ylabel(\"kiss\")\n",
    "\n",
    "plt.scatter(film[:,0],film[:,1],c=knn.predict(film))"
   ]
  },
  {
   "cell_type": "markdown",
   "id": "d9836578",
   "metadata": {},
   "source": [
    "## 模型评价"
   ]
  },
  {
   "cell_type": "code",
   "execution_count": 53,
   "id": "05248e96",
   "metadata": {
    "ExecuteTime": {
     "end_time": "2023-02-13T02:45:11.033044Z",
     "start_time": "2023-02-13T02:45:10.948202Z"
    },
    "collapsed": true
   },
   "outputs": [
    {
     "data": {
      "text/html": [
       "<div>\n",
       "<style scoped>\n",
       "    .dataframe tbody tr th:only-of-type {\n",
       "        vertical-align: middle;\n",
       "    }\n",
       "\n",
       "    .dataframe tbody tr th {\n",
       "        vertical-align: top;\n",
       "    }\n",
       "\n",
       "    .dataframe thead th {\n",
       "        text-align: right;\n",
       "    }\n",
       "</style>\n",
       "<table border=\"1\" class=\"dataframe\">\n",
       "  <thead>\n",
       "    <tr style=\"text-align: right;\">\n",
       "      <th></th>\n",
       "      <th>fight</th>\n",
       "      <th>kiss</th>\n",
       "      <th>class</th>\n",
       "    </tr>\n",
       "  </thead>\n",
       "  <tbody>\n",
       "    <tr>\n",
       "      <th>0</th>\n",
       "      <td>10</td>\n",
       "      <td>1</td>\n",
       "      <td>0</td>\n",
       "    </tr>\n",
       "    <tr>\n",
       "      <th>1</th>\n",
       "      <td>9</td>\n",
       "      <td>3</td>\n",
       "      <td>0</td>\n",
       "    </tr>\n",
       "    <tr>\n",
       "      <th>2</th>\n",
       "      <td>10</td>\n",
       "      <td>3</td>\n",
       "      <td>0</td>\n",
       "    </tr>\n",
       "    <tr>\n",
       "      <th>3</th>\n",
       "      <td>12</td>\n",
       "      <td>4</td>\n",
       "      <td>0</td>\n",
       "    </tr>\n",
       "    <tr>\n",
       "      <th>4</th>\n",
       "      <td>14</td>\n",
       "      <td>3</td>\n",
       "      <td>0</td>\n",
       "    </tr>\n",
       "    <tr>\n",
       "      <th>5</th>\n",
       "      <td>3</td>\n",
       "      <td>12</td>\n",
       "      <td>1</td>\n",
       "    </tr>\n",
       "    <tr>\n",
       "      <th>6</th>\n",
       "      <td>4</td>\n",
       "      <td>15</td>\n",
       "      <td>1</td>\n",
       "    </tr>\n",
       "    <tr>\n",
       "      <th>7</th>\n",
       "      <td>2</td>\n",
       "      <td>9</td>\n",
       "      <td>1</td>\n",
       "    </tr>\n",
       "    <tr>\n",
       "      <th>8</th>\n",
       "      <td>3</td>\n",
       "      <td>10</td>\n",
       "      <td>1</td>\n",
       "    </tr>\n",
       "    <tr>\n",
       "      <th>9</th>\n",
       "      <td>4</td>\n",
       "      <td>13</td>\n",
       "      <td>1</td>\n",
       "    </tr>\n",
       "  </tbody>\n",
       "</table>\n",
       "</div>"
      ],
      "text/plain": [
       "   fight  kiss  class\n",
       "0     10     1      0\n",
       "1      9     3      0\n",
       "2     10     3      0\n",
       "3     12     4      0\n",
       "4     14     3      0\n",
       "5      3    12      1\n",
       "6      4    15      1\n",
       "7      2     9      1\n",
       "8      3    10      1\n",
       "9      4    13      1"
      ]
     },
     "execution_count": 53,
     "metadata": {},
     "output_type": "execute_result"
    }
   ],
   "source": [
    "df"
   ]
  },
  {
   "cell_type": "markdown",
   "id": "c029f296",
   "metadata": {},
   "source": [
    "### 数据集拆分"
   ]
  },
  {
   "cell_type": "code",
   "execution_count": 56,
   "id": "66578d59",
   "metadata": {
    "ExecuteTime": {
     "end_time": "2023-02-13T02:51:47.996113Z",
     "start_time": "2023-02-13T02:51:47.948995Z"
    }
   },
   "outputs": [
    {
     "data": {
      "text/html": [
       "<div>\n",
       "<style scoped>\n",
       "    .dataframe tbody tr th:only-of-type {\n",
       "        vertical-align: middle;\n",
       "    }\n",
       "\n",
       "    .dataframe tbody tr th {\n",
       "        vertical-align: top;\n",
       "    }\n",
       "\n",
       "    .dataframe thead th {\n",
       "        text-align: right;\n",
       "    }\n",
       "</style>\n",
       "<table border=\"1\" class=\"dataframe\">\n",
       "  <thead>\n",
       "    <tr style=\"text-align: right;\">\n",
       "      <th></th>\n",
       "      <th>fight</th>\n",
       "      <th>kiss</th>\n",
       "    </tr>\n",
       "  </thead>\n",
       "  <tbody>\n",
       "    <tr>\n",
       "      <th>0</th>\n",
       "      <td>10</td>\n",
       "      <td>1</td>\n",
       "    </tr>\n",
       "    <tr>\n",
       "      <th>1</th>\n",
       "      <td>9</td>\n",
       "      <td>3</td>\n",
       "    </tr>\n",
       "    <tr>\n",
       "      <th>2</th>\n",
       "      <td>10</td>\n",
       "      <td>3</td>\n",
       "    </tr>\n",
       "    <tr>\n",
       "      <th>3</th>\n",
       "      <td>12</td>\n",
       "      <td>4</td>\n",
       "    </tr>\n",
       "    <tr>\n",
       "      <th>4</th>\n",
       "      <td>14</td>\n",
       "      <td>3</td>\n",
       "    </tr>\n",
       "    <tr>\n",
       "      <th>5</th>\n",
       "      <td>3</td>\n",
       "      <td>12</td>\n",
       "    </tr>\n",
       "    <tr>\n",
       "      <th>6</th>\n",
       "      <td>4</td>\n",
       "      <td>15</td>\n",
       "    </tr>\n",
       "    <tr>\n",
       "      <th>7</th>\n",
       "      <td>2</td>\n",
       "      <td>9</td>\n",
       "    </tr>\n",
       "  </tbody>\n",
       "</table>\n",
       "</div>"
      ],
      "text/plain": [
       "   fight  kiss\n",
       "0     10     1\n",
       "1      9     3\n",
       "2     10     3\n",
       "3     12     4\n",
       "4     14     3\n",
       "5      3    12\n",
       "6      4    15\n",
       "7      2     9"
      ]
     },
     "execution_count": 56,
     "metadata": {},
     "output_type": "execute_result"
    }
   ],
   "source": [
    "X_train = X.iloc[:8]\n",
    "X_test = X.iloc[8:]\n",
    "\n",
    "y_train = y.iloc[:8]\n",
    "y_test = y.iloc[8:]"
   ]
  },
  {
   "cell_type": "code",
   "execution_count": 61,
   "id": "aad26c2b",
   "metadata": {
    "ExecuteTime": {
     "end_time": "2023-02-13T03:26:27.605887Z",
     "start_time": "2023-02-13T03:26:27.575368Z"
    }
   },
   "outputs": [],
   "source": [
    "knn1 = KNeighborsClassifier(n_neighbors=3,weights=\"distance\")\n",
    "knn2 = KNeighborsClassifier(n_neighbors=5,weights=\"distance\")"
   ]
  },
  {
   "cell_type": "code",
   "execution_count": 66,
   "id": "2e1510cf",
   "metadata": {
    "ExecuteTime": {
     "end_time": "2023-02-13T03:27:46.963627Z",
     "start_time": "2023-02-13T03:27:46.937849Z"
    }
   },
   "outputs": [
    {
     "data": {
      "text/plain": [
       "KNeighborsClassifier(weights='distance')"
      ]
     },
     "execution_count": 66,
     "metadata": {},
     "output_type": "execute_result"
    }
   ],
   "source": [
    "knn1.fit(X_train.values,y_train.values)\n",
    "knn2.fit(X_train.values,y_train.values)"
   ]
  },
  {
   "cell_type": "code",
   "execution_count": 67,
   "id": "9143af7f",
   "metadata": {
    "ExecuteTime": {
     "end_time": "2023-02-13T03:27:48.027361Z",
     "start_time": "2023-02-13T03:27:48.001099Z"
    }
   },
   "outputs": [],
   "source": [
    "y1_ = knn1.predict(X_test.values)\n",
    "y2_ = knn2.predict(X_test.values)"
   ]
  },
  {
   "cell_type": "code",
   "execution_count": null,
   "id": "3786adc7",
   "metadata": {},
   "outputs": [],
   "source": []
  }
 ],
 "metadata": {
  "kernelspec": {
   "display_name": "Python 3 (ipykernel)",
   "language": "python",
   "name": "python3"
  },
  "language_info": {
   "codemirror_mode": {
    "name": "ipython",
    "version": 3
   },
   "file_extension": ".py",
   "mimetype": "text/x-python",
   "name": "python",
   "nbconvert_exporter": "python",
   "pygments_lexer": "ipython3",
   "version": "3.9.13"
  },
  "toc": {
   "base_numbering": 1,
   "nav_menu": {},
   "number_sections": true,
   "sideBar": true,
   "skip_h1_title": false,
   "title_cell": "Table of Contents",
   "title_sidebar": "Contents",
   "toc_cell": false,
   "toc_position": {
    "height": "calc(100% - 180px)",
    "left": "10px",
    "top": "150px",
    "width": "165px"
   },
   "toc_section_display": true,
   "toc_window_display": true
  }
 },
 "nbformat": 4,
 "nbformat_minor": 5
}
