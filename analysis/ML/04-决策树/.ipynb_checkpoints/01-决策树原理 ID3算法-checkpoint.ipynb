{
 "cells": [
  {
   "cell_type": "code",
   "execution_count": 5,
   "id": "52239659",
   "metadata": {
    "ExecuteTime": {
     "end_time": "2023-02-17T02:43:20.501861Z",
     "start_time": "2023-02-17T02:43:20.432239Z"
    }
   },
   "outputs": [],
   "source": [
    "import pandas as pd\n",
    "import numpy as np\n",
    "import seaborn as sns\n",
    "import matplotlib.pyplot as plt\n",
    "import math\n",
    "%matplotlib inline\n",
    "from sklearn.model_selection import train_test_split,cross_val_score\n",
    "from matplotlib.colors import ListedColormap\n",
    "sns.set()\n",
    "colors = sns.color_palette(\"husl\")"
   ]
  },
  {
   "cell_type": "code",
   "execution_count": 12,
   "id": "41fa526d",
   "metadata": {
    "ExecuteTime": {
     "end_time": "2023-02-17T02:48:49.987632Z",
     "start_time": "2023-02-17T02:48:49.927273Z"
    },
    "scrolled": true
   },
   "outputs": [
    {
     "data": {
      "text/html": [
       "<div>\n",
       "<style scoped>\n",
       "    .dataframe tbody tr th:only-of-type {\n",
       "        vertical-align: middle;\n",
       "    }\n",
       "\n",
       "    .dataframe tbody tr th {\n",
       "        vertical-align: top;\n",
       "    }\n",
       "\n",
       "    .dataframe thead th {\n",
       "        text-align: right;\n",
       "    }\n",
       "</style>\n",
       "<table border=\"1\" class=\"dataframe\">\n",
       "  <thead>\n",
       "    <tr style=\"text-align: right;\">\n",
       "      <th></th>\n",
       "      <th>好友密度</th>\n",
       "      <th>真实用户</th>\n",
       "    </tr>\n",
       "  </thead>\n",
       "  <tbody>\n",
       "    <tr>\n",
       "      <th>0</th>\n",
       "      <td>s</td>\n",
       "      <td>no</td>\n",
       "    </tr>\n",
       "    <tr>\n",
       "      <th>1</th>\n",
       "      <td>m</td>\n",
       "      <td>yes</td>\n",
       "    </tr>\n",
       "    <tr>\n",
       "      <th>2</th>\n",
       "      <td>m</td>\n",
       "      <td>yes</td>\n",
       "    </tr>\n",
       "    <tr>\n",
       "      <th>3</th>\n",
       "      <td>m</td>\n",
       "      <td>no</td>\n",
       "    </tr>\n",
       "    <tr>\n",
       "      <th>4</th>\n",
       "      <td>m</td>\n",
       "      <td>yes</td>\n",
       "    </tr>\n",
       "    <tr>\n",
       "      <th>5</th>\n",
       "      <td>m</td>\n",
       "      <td>no</td>\n",
       "    </tr>\n",
       "    <tr>\n",
       "      <th>6</th>\n",
       "      <td>s</td>\n",
       "      <td>no</td>\n",
       "    </tr>\n",
       "    <tr>\n",
       "      <th>7</th>\n",
       "      <td>m</td>\n",
       "      <td>yes</td>\n",
       "    </tr>\n",
       "    <tr>\n",
       "      <th>8</th>\n",
       "      <td>s</td>\n",
       "      <td>yes</td>\n",
       "    </tr>\n",
       "    <tr>\n",
       "      <th>9</th>\n",
       "      <td>s</td>\n",
       "      <td>no</td>\n",
       "    </tr>\n",
       "  </tbody>\n",
       "</table>\n",
       "</div>"
      ],
      "text/plain": [
       "  好友密度 真实用户\n",
       "0    s   no\n",
       "1    m  yes\n",
       "2    m  yes\n",
       "3    m   no\n",
       "4    m  yes\n",
       "5    m   no\n",
       "6    s   no\n",
       "7    m  yes\n",
       "8    s  yes\n",
       "9    s   no"
      ]
     },
     "execution_count": 12,
     "metadata": {},
     "output_type": "execute_result"
    }
   ],
   "source": [
    "df = pd.DataFrame(data={\n",
    "    \"好友密度\":[\"s\", \"m\",  \"m\",  \"m\",  \"m\",  \"m\",  \"s\", \"m\",  \"s\",  \"s\"],\n",
    "    \"真实用户\":[\"no\",\"yes\",\"yes\",\"no\",\"yes\",\"no\",\"no\",\"yes\",\"yes\",\"no\"]\n",
    "    \n",
    "})\n",
    "df"
   ]
  },
  {
   "cell_type": "markdown",
   "id": "23bc099a",
   "metadata": {
    "ExecuteTime": {
     "end_time": "2023-02-17T02:51:57.480454Z",
     "start_time": "2023-02-17T02:51:57.431709Z"
    }
   },
   "source": [
    "### 原始数据集的熵"
   ]
  },
  {
   "cell_type": "code",
   "execution_count": 6,
   "id": "1a868fbd",
   "metadata": {
    "ExecuteTime": {
     "end_time": "2023-02-17T02:44:06.307562Z",
     "start_time": "2023-02-17T02:44:06.275452Z"
    }
   },
   "outputs": [
    {
     "data": {
      "text/plain": [
       "0.8812908992306927"
      ]
     },
     "execution_count": 6,
     "metadata": {},
     "output_type": "execute_result"
    }
   ],
   "source": [
    "info_H = -0.3*math.log2(0.3)-0.7*math.log2(0.7)\n",
    "info_H"
   ]
  },
  {
   "cell_type": "markdown",
   "id": "84c6e955",
   "metadata": {},
   "source": [
    "### 按照好友密度划分的信息熵"
   ]
  },
  {
   "cell_type": "code",
   "execution_count": 8,
   "id": "8220730c",
   "metadata": {
    "ExecuteTime": {
     "end_time": "2023-02-17T02:46:28.941074Z",
     "start_time": "2023-02-17T02:46:28.900660Z"
    }
   },
   "outputs": [
    {
     "data": {
      "text/plain": [
       "1.0"
      ]
     },
     "execution_count": 8,
     "metadata": {},
     "output_type": "execute_result"
    }
   ],
   "source": [
    "info_L_s = -0.5*math.log2(0.5)-0.5*math.log2(0.5)\n",
    "info_L_s"
   ]
  },
  {
   "cell_type": "code",
   "execution_count": 13,
   "id": "0f3d939e",
   "metadata": {
    "ExecuteTime": {
     "end_time": "2023-02-17T02:49:35.246635Z",
     "start_time": "2023-02-17T02:49:35.192634Z"
    }
   },
   "outputs": [
    {
     "data": {
      "text/plain": [
       "0.9182958340544896"
      ]
     },
     "execution_count": 13,
     "metadata": {},
     "output_type": "execute_result"
    }
   ],
   "source": [
    "info_L_m = -(4/6)*math.log2(4/6)-(2/6)*math.log2(2/6)\n",
    "info_L_m"
   ]
  },
  {
   "cell_type": "code",
   "execution_count": 14,
   "id": "f2aa1bf5",
   "metadata": {
    "ExecuteTime": {
     "end_time": "2023-02-17T02:51:00.618612Z",
     "start_time": "2023-02-17T02:51:00.599351Z"
    }
   },
   "outputs": [
    {
     "data": {
      "text/plain": [
       "0.9509775004326937"
      ]
     },
     "execution_count": 14,
     "metadata": {},
     "output_type": "execute_result"
    }
   ],
   "source": [
    "info_L = 0.4*info_L_s+0.6*info_L_m\n",
    "info_L"
   ]
  },
  {
   "cell_type": "markdown",
   "id": "91a4ac12",
   "metadata": {},
   "source": [
    "### 信息增益"
   ]
  },
  {
   "cell_type": "code",
   "execution_count": 15,
   "id": "754e0c9d",
   "metadata": {
    "ExecuteTime": {
     "end_time": "2023-02-17T02:51:18.489409Z",
     "start_time": "2023-02-17T02:51:18.446930Z"
    }
   },
   "outputs": [
    {
     "data": {
      "text/plain": [
       "-0.06968660120200099"
      ]
     },
     "execution_count": 15,
     "metadata": {},
     "output_type": "execute_result"
    }
   ],
   "source": [
    "info_H - info_L"
   ]
  }
 ],
 "metadata": {
  "kernelspec": {
   "display_name": "Python 3 (ipykernel)",
   "language": "python",
   "name": "python3"
  },
  "language_info": {
   "codemirror_mode": {
    "name": "ipython",
    "version": 3
   },
   "file_extension": ".py",
   "mimetype": "text/x-python",
   "name": "python",
   "nbconvert_exporter": "python",
   "pygments_lexer": "ipython3",
   "version": "3.9.13"
  },
  "toc": {
   "base_numbering": 1,
   "nav_menu": {},
   "number_sections": true,
   "sideBar": true,
   "skip_h1_title": false,
   "title_cell": "Table of Contents",
   "title_sidebar": "Contents",
   "toc_cell": false,
   "toc_position": {},
   "toc_section_display": true,
   "toc_window_display": false
  }
 },
 "nbformat": 4,
 "nbformat_minor": 5
}
