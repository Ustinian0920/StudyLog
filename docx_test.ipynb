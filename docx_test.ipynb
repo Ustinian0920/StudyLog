{
 "cells": [
  {
   "cell_type": "markdown",
   "metadata": {},
   "source": [
    "doc 是 WPS-2003 及以前的版本\n",
    "docx 是 WSP-2007 及以后的版本"
   ]
  },
  {
   "cell_type": "code",
   "execution_count": 43,
   "metadata": {},
   "outputs": [],
   "source": [
    "from docx import Document\n",
    "import re\n",
    "import json"
   ]
  },
  {
   "cell_type": "code",
   "execution_count": 15,
   "metadata": {},
   "outputs": [],
   "source": [
    "file_path = r\"/Users/lianke/Desktop/local_test/2018.docx\"\n",
    "world_file = Document(file_path)\n",
    "paragraphs = world_file.paragraphs \n"
   ]
  },
  {
   "cell_type": "code",
   "execution_count": 44,
   "metadata": {},
   "outputs": [],
   "source": [
    "\n",
    "\n"
   ]
  },
  {
   "cell_type": "code",
   "execution_count": null,
   "metadata": {},
   "outputs": [],
   "source": [
    "def docx_to_dic(docx_path):\n",
    "    world_file = Document(docx_path) \n",
    "\n",
    "    # 1. 循环获取表格数据\n",
    "    tabel_list = []\n",
    "    for table in world_file.tables:\n",
    "        dic = {}\n",
    "        for row in table.rows:\n",
    "            dic[row.cells[0].text] = row.cells[1].text\n",
    "        tabel_list.append(dic)\n",
    "\n",
    "\n",
    "    # 2. 循环获取段落数据\n",
    "    system_prog = re.compile(\"^[\\u4e00-\\u9fa5]{1,10}、\")\n",
    "    equipment_prog = re.compile(\"^（[\\u4e00-\\u9fa5\\u767e\\u5343\\u96f6]{1,10}）\")\n",
    "\n",
    "    dic = {}\n",
    "    i=0\n",
    "    for paragraph in world_file.paragraphs:\n",
    "        text = paragraph.text\n",
    "        if text==\"目 录\":continue\n",
    "        if text != \"\":\n",
    "            print(dic)\n",
    "            if system_prog.match(text):\n",
    "                current_system = text\n",
    "                dic.update({current_system:{}})\n",
    "                print(1)\n",
    "            elif equipment_prog.match(text):\n",
    "                current_equipment = text\n",
    "                dic[current_system].update({current_equipment:{}})\n",
    "                print(2)\n",
    "            else:\n",
    "                try:\n",
    "                    dic[current_system][current_equipment].update({text:{}})\n",
    "                    print(3)\n",
    "                # 系统下只有一个设备，文档会省略掉设备，直接写缺陷\n",
    "                except KeyError:\n",
    "                    dic[current_system].update({current_system:{}})\n",
    "                    dic[current_system][current_system].update({text:{}})\n",
    "            print(text)\n",
    "            i+=1\n",
    "        \n",
    "    # 3. 将表格数据和段落数据融合\n",
    "    print(dic)\n",
    "    i = 0\n",
    "    for system,v_system in dic.items():\n",
    "        for equipment,v_equipment in v_system.items():\n",
    "            for defect in v_equipment.keys():\n",
    "                dic[system][equipment][defect] = tabel_list[i]\n",
    "                i += 1\n",
    "\n",
    "    # with open(\"/Users/lianke/Desktop/local_test/2018.json\",\"w\") as f:\n",
    "    #     json.dump(dic,f,ensure_ascii=False)\n",
    "\n",
    "    return dic"
   ]
  },
  {
   "cell_type": "code",
   "execution_count": null,
   "metadata": {},
   "outputs": [],
   "source": [
    "from docx.document import Document\n",
    "from docx.oxml.table import CT_Tbl\n",
    "from docx.oxml.text.paragraph import CT_P\n",
    "from docx.table import _Cell, Table\n",
    "from docx.text.paragraph import Paragraph\n",
    "import docx\n",
    "\n",
    "# 函数迭代器\n",
    "def iter_block_items(parent):\n",
    "    if isinstance(parent, Document):\n",
    "        parent_elm = parent.element.body\n",
    "    elif isinstance(parent, _Cell):\n",
    "        parent_elm = parent._tc\n",
    "    else:\n",
    "        raise ValueError(\"something's not right\")\n",
    "\n",
    "    for child in parent_elm.iterchildren():\n",
    "        if isinstance(child, CT_P):\n",
    "            yield Paragraph(child, parent)\n",
    "        elif isinstance(child, CT_Tbl):\n",
    "            yield Table(child, parent)\n",
    "\n",
    "\n",
    "tabel_style = [\"Normal Table\",\"Table Grid\"]\n",
    "doc = docx.Document('/Users/lianke/Desktop/local_test/2018.docx')\n",
    "\n",
    "# 每一步循环执行函数的下一步，返回一个block，block可能是段落也可能是表格\n",
    "for block in iter_block_items(doc):\n",
    "    \n",
    "    if block.style.name == tabel_style:\n",
    "        print(block.style.name)\n",
    "        dic = {}\n",
    "        for row in block.rows:\n",
    "            dic[row.cells[0].text] = row.cells[1].text\n",
    "        print(dic)\n",
    "    elif block.text == \"\":\n",
    "        pass\n",
    "    elif block.style.name == 'Heading 1':\n",
    "        print(block.style.name)\n",
    "        print(block.text)\n",
    "    elif block.style.name == 'Heading 2':\n",
    "        print(block.style.name)\n",
    "        print(block.text)\n",
    "    elif block.style.name == 'Heading 3':\n",
    "        print(block.style.name)\n",
    "        print(block.text)\n",
    "    else:\n",
    "        print(block.style.name)\n",
    "        print(block.text)\n"
   ]
  }
 ],
 "metadata": {
  "kernelspec": {
   "display_name": "Python 3",
   "language": "python",
   "name": "python3"
  },
  "language_info": {
   "codemirror_mode": {
    "name": "ipython",
    "version": 3
   },
   "file_extension": ".py",
   "mimetype": "text/x-python",
   "name": "python",
   "nbconvert_exporter": "python",
   "pygments_lexer": "ipython3",
   "version": "3.8.10"
  },
  "orig_nbformat": 4
 },
 "nbformat": 4,
 "nbformat_minor": 2
}
