{
 "cells": [
  {
   "cell_type": "code",
   "execution_count": 6,
   "id": "a1af7980",
   "metadata": {
    "ExecuteTime": {
     "end_time": "2023-02-16T06:05:16.523235Z",
     "start_time": "2023-02-16T06:05:16.426738Z"
    }
   },
   "outputs": [],
   "source": [
    "import pandas as pd\n",
    "import numpy as np\n",
    "import seaborn as sns\n",
    "import matplotlib.pyplot as plt\n",
    "%matplotlib inline\n",
    "from sklearn.model_selection import train_test_split,cross_val_score\n",
    "from matplotlib.colors import ListedColormap\n",
    "sns.set()\n",
    "colors = sns.color_palette(\"husl\")"
   ]
  },
  {
   "cell_type": "code",
   "execution_count": 2,
   "id": "dbf34755",
   "metadata": {
    "ExecuteTime": {
     "end_time": "2023-02-16T05:46:27.187946Z",
     "start_time": "2023-02-16T05:46:27.160855Z"
    }
   },
   "outputs": [],
   "source": [
    "from sklearn.naive_bayes import GaussianNB,MultinomialNB,BernoulliNB"
   ]
  },
  {
   "cell_type": "code",
   "execution_count": 3,
   "id": "2b9500e9",
   "metadata": {
    "ExecuteTime": {
     "end_time": "2023-02-16T06:01:45.097796Z",
     "start_time": "2023-02-16T06:01:45.085595Z"
    }
   },
   "outputs": [],
   "source": [
    "# GaussianNB 解决连续型数据的模型，期望特征取值为正态分布\n",
    "# MultinomialNB 大文本集的分类处理\n",
    "# BernoulliNB 小文本集的分类处理"
   ]
  },
  {
   "cell_type": "code",
   "execution_count": 4,
   "id": "0190d78c",
   "metadata": {
    "ExecuteTime": {
     "end_time": "2023-02-16T06:02:07.419015Z",
     "start_time": "2023-02-16T06:02:07.410985Z"
    }
   },
   "outputs": [],
   "source": [
    "from sklearn.datasets import load_iris"
   ]
  },
  {
   "cell_type": "code",
   "execution_count": 9,
   "id": "6fd1d3d9",
   "metadata": {
    "ExecuteTime": {
     "end_time": "2023-02-16T06:08:53.739747Z",
     "start_time": "2023-02-16T06:08:53.705141Z"
    }
   },
   "outputs": [],
   "source": [
    "train,target = load_iris(return_X_y=True)"
   ]
  },
  {
   "cell_type": "code",
   "execution_count": 10,
   "id": "c2ad22a6",
   "metadata": {
    "ExecuteTime": {
     "end_time": "2023-02-16T06:08:55.305418Z",
     "start_time": "2023-02-16T06:08:55.079504Z"
    }
   },
   "outputs": [
    {
     "name": "stdout",
     "output_type": "stream",
     "text": [
      "高斯分布 score:0.9533333333333334\n",
      "多项式分布 score:0.9533333333333334\n",
      "伯努利分布 score:0.33333333333333337\n"
     ]
    }
   ],
   "source": [
    "# 高斯分布\n",
    "gnb = GaussianNB()\n",
    "# 多项式分布\n",
    "mnb = MultinomialNB()\n",
    "# 伯努利分布\n",
    "bnb = BernoulliNB()\n",
    "\n",
    "gnb_score = cross_val_score(gnb,train,target,cv=10).mean()\n",
    "mnb_score = cross_val_score(mnb,train,target,cv=10).mean()\n",
    "bnb_score = cross_val_score(bnb,train,target,cv=10).mean()\n",
    "\n",
    "print(f\"高斯分布 score:{gnb_score}\\n多项式分布 score:{mnb_score}\\n伯努利分布 score:{bnb_score}\")"
   ]
  }
 ],
 "metadata": {
  "kernelspec": {
   "display_name": "Python 3 (ipykernel)",
   "language": "python",
   "name": "python3"
  },
  "language_info": {
   "codemirror_mode": {
    "name": "ipython",
    "version": 3
   },
   "file_extension": ".py",
   "mimetype": "text/x-python",
   "name": "python",
   "nbconvert_exporter": "python",
   "pygments_lexer": "ipython3",
   "version": "3.9.13"
  },
  "toc": {
   "base_numbering": 1,
   "nav_menu": {},
   "number_sections": true,
   "sideBar": true,
   "skip_h1_title": false,
   "title_cell": "Table of Contents",
   "title_sidebar": "Contents",
   "toc_cell": false,
   "toc_position": {},
   "toc_section_display": true,
   "toc_window_display": false
  }
 },
 "nbformat": 4,
 "nbformat_minor": 5
}
